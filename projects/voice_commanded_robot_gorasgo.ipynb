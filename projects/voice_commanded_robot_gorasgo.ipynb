{
 "cells": [
  {
   "cell_type": "code",
   "execution_count": null,
   "metadata": {},
   "outputs": [],
   "source": [
    "import socket\n",
    "import numpy as np\n",
    "\n",
    "import sys\n",
    "sys.path.append('..') # Go back to base directory\n",
    "\n",
    "from modules.differential_drive import DifferentialDrive\n",
    "from modules.speech_recognizer import SpeechRecognizer\n",
    "from modules.openai_llm import OpenAILLM\n",
    "\n",
    "from modules.graph import *\n",
    "from modules.viewer3d import *"
   ]
  },
  {
   "cell_type": "code",
   "execution_count": 14,
   "metadata": {},
   "outputs": [],
   "source": [
    "# Robot class\n",
    "class Robot:\n",
    "    def __init__(\n",
    "        self,\n",
    "        SR=None,\n",
    "        LLM=None,\n",
    "        DDR=None\n",
    "    ):\n",
    "        self.SR=SR\n",
    "        self.LLM=LLM\n",
    "        self.DDR=DDR"
   ]
  },
  {
   "cell_type": "code",
   "execution_count": null,
   "metadata": {},
   "outputs": [
    {
     "name": "stdout",
     "output_type": "stream",
     "text": [
      "Client successfuly created!\n"
     ]
    }
   ],
   "source": [
    "SR = SpeechRecognizer(\n",
    "    language=\"pt-BR\",\n",
    "    verbose=True\n",
    ") \n",
    "\n",
    "system_role = \"\"\"\n",
    "You are an AI that generates commands for a differential drive robot based on the desired trajectory described in natural language. The commands you will generate follow this format:\n",
    "\n",
    "Drive command: D d t, where d is the distance in meters and t is the time in seconds. Negative values of d will make the robot move backwards.\n",
    "Turn command: T a t, where a is the angle in degrees and t is the time in seconds. Negative values of a will make the robot turn clockwise.\n",
    "Circle command: C r a t, where r is the radius of the circle in meters (positive for left, negative for right), a is the angle in degrees of the arc, and t is the time in seconds.\n",
    "    \n",
    "Your response should include only the commands, with no additional explanations or text. Try to interpret the received message as best as you can. \n",
    "\n",
    "For example, if given the instruction 'make a square trajectory with a length of 1 meter', your output should be:\n",
    "\n",
    "D 1.0 5.0\n",
    "T 90.0 2.0\n",
    "D 1.0 5.0\n",
    "T 90.0 2.0\n",
    "D 1.0 5.0\n",
    "T 90.0 2.0\n",
    "D 1.0 5.0\n",
    "\"\"\"\n",
    "\n",
    "LLM = OpenAILLM(\n",
    "    verbose=True\n",
    ")\n",
    "\n",
    "DDR = DifferentialDrive(\n",
    "    # Robot geometry\n",
    "    r=0.04, # In m\n",
    "    s=0.24, # In m\n",
    "    h=0.04, # in m\n",
    "\n",
    "    # Time parameters\n",
    "    dt=50e-3\n",
    ")\n",
    "\n",
    "MyRobot = Robot(\n",
    "    SR,\n",
    "    LLM,\n",
    "    DDR\n",
    ")"
   ]
  },
  {
   "cell_type": "code",
   "execution_count": 16,
   "metadata": {},
   "outputs": [],
   "source": [
    "def commands_to_signals(\n",
    "    DDR, \n",
    "    commands,\n",
    "    verbose=False\n",
    "):\n",
    "    signals, time_vector = [], []\n",
    "\n",
    "    # Parsing through lines\n",
    "    for line in commands.splitlines():\n",
    "        if not line:\n",
    "            continue\n",
    "\n",
    "        tokens = line.split()\n",
    "\n",
    "        type, args = tokens[0], np.array(tokens[1:]).astype(np.float64)\n",
    "\n",
    "        try:\n",
    "            phi_dot_L_signal, phi_dot_R_signal = DDR.command[type](*args)\n",
    "\n",
    "            signals.append(np.vstack((phi_dot_L_signal, phi_dot_R_signal)))\n",
    "\n",
    "        except:\n",
    "            if verbose: print(\"Command not recognized.\")\n",
    "            continue\n",
    "    \n",
    "    if signals:\n",
    "        signals, time_vector = DDR.concatenate_signals(signals)\n",
    "\n",
    "    return signals, time_vector"
   ]
  },
  {
   "cell_type": "code",
   "execution_count": 17,
   "metadata": {},
   "outputs": [
    {
     "name": "stdout",
     "output_type": "stream",
     "text": [
      "Natural Language Command: Ande 50 cm\n",
      "Sending message...\n",
      "Received response.\n",
      "Commands:\n",
      "D 0.5 2.0\n",
      "Computing solution...\n"
     ]
    }
   ],
   "source": [
    "output, poses, positions = [], [], []\n",
    "recognized_speech = \"\"\n",
    "\n",
    "# GoPiGo3 Socket Data\n",
    "GoPiGo3_address = (socket.gethostbyname(\"dex\"), 25565)\n",
    "\n",
    "GoPiGo3_socket = socket.socket(\n",
    "    socket.AF_INET,\n",
    "    socket.SOCK_DGRAM\n",
    ")\n",
    "\n",
    "while not len(output):\n",
    "    recognized_speech = input(\"Natural Language Command: \")\n",
    "\n",
    "    if not recognized_speech:\n",
    "        continue\n",
    "\n",
    "    else: \n",
    "        print(f\"Natural Language Command: {recognized_speech}\" )\n",
    "\n",
    "    commands = MyRobot.LLM.chat_completion(\n",
    "        system_role=system_role,\n",
    "        prompt=recognized_speech,\n",
    "        max_tokens=100\n",
    "    )\n",
    "\n",
    "    print(\"Commands:\")\n",
    "    print(commands)\n",
    "\n",
    "    GoPiGo3_socket.sendto(commands.encode(), GoPiGo3_address)\n",
    "\n",
    "    signals, time_vector = commands_to_signals(\n",
    "        DDR=MyRobot.DDR, \n",
    "        commands=commands, \n",
    "        verbose=True)\n",
    "\n",
    "    if not len(signals):\n",
    "        continue\n",
    "\n",
    "    phi_dot_L_signal, phi_dot_R_signal = signals\n",
    "    \n",
    "    print(\"Computing solution...\")\n",
    "    for phi_dot_L, phi_dot_R in zip(phi_dot_L_signal, phi_dot_R_signal):\n",
    "        MyRobot.DDR.kinematic_model(phi_dot_L, phi_dot_R)\n",
    "        \n",
    "        output.append(MyRobot.DDR.get_output())\n",
    "        positions.append(MyRobot.DDR.get_position())\n",
    "        poses.append(MyRobot.DDR.get_pose())\n",
    "\n",
    "    if not len(output):\n",
    "        continue\n",
    "    \n",
    "    output = np.hstack(output)\n",
    "    trajectory = np.hstack(positions)\n"
   ]
  },
  {
   "cell_type": "code",
   "execution_count": 18,
   "metadata": {},
   "outputs": [
    {
     "data": {
      "application/vnd.plotly.v1+json": {
       "config": {
        "plotlyServerURL": "https://plot.ly"
       },
       "data": [
        {
         "legendgroup": "Frames",
         "legendgrouptitle": {
          "text": "Frames"
         },
         "marker": {
          "opacity": 0.8,
          "size": 4
         },
         "mode": "markers",
         "name": "Inertial Reference",
         "showlegend": true,
         "type": "scatter3d",
         "x": [
          0
         ],
         "y": [
          0
         ],
         "z": [
          0
         ]
        },
        {
         "hoverinfo": "skip",
         "line": {
          "color": "red",
          "width": 2
         },
         "mode": "lines",
         "name": "xInertial Reference",
         "showlegend": false,
         "type": "scatter3d",
         "x": [
          0,
          5
         ],
         "y": [
          0,
          0
         ],
         "z": [
          0,
          0
         ]
        },
        {
         "hoverinfo": "skip",
         "line": {
          "color": "green",
          "width": 2
         },
         "mode": "lines",
         "name": "yInertial Reference",
         "showlegend": false,
         "type": "scatter3d",
         "x": [
          0,
          0
         ],
         "y": [
          0,
          5
         ],
         "z": [
          0,
          0
         ]
        },
        {
         "hoverinfo": "skip",
         "line": {
          "color": "blue",
          "width": 2
         },
         "mode": "lines",
         "name": "zInertial Reference",
         "showlegend": false,
         "type": "scatter3d",
         "x": [
          0,
          0
         ],
         "y": [
          0,
          0
         ],
         "z": [
          0,
          5
         ]
        },
        {
         "legendgroup": "Points",
         "legendgrouptitle": {
          "text": "Points"
         },
         "marker": {
          "cmax": 2.5,
          "cmin": 0,
          "color": [
           0,
           0.05128205128205128,
           0.10256410256410256,
           0.15384615384615385,
           0.20512820512820512,
           0.2564102564102564,
           0.3076923076923077,
           0.358974358974359,
           0.41025641025641024,
           0.4615384615384615,
           0.5128205128205128,
           0.5641025641025641,
           0.6153846153846154,
           0.6666666666666666,
           0.717948717948718,
           0.7692307692307692,
           0.8205128205128205,
           0.8717948717948718,
           0.923076923076923,
           0.9743589743589743,
           1.0256410256410255,
           1.0769230769230769,
           1.1282051282051282,
           1.1794871794871795,
           1.2307692307692308,
           1.282051282051282,
           1.3333333333333333,
           1.3846153846153846,
           1.435897435897436,
           1.4871794871794872,
           1.5384615384615383,
           1.5897435897435896,
           1.641025641025641,
           1.6923076923076923,
           1.7435897435897436,
           1.7948717948717947,
           1.846153846153846,
           1.8974358974358974,
           1.9487179487179487,
           2
          ],
          "colorbar": {
           "len": 0.5,
           "lenmode": "fraction",
           "title": {
            "text": "Time (s)"
           }
          },
          "colorscale": [
           [
            0,
            "#0d0887"
           ],
           [
            0.1111111111111111,
            "#46039f"
           ],
           [
            0.2222222222222222,
            "#7201a8"
           ],
           [
            0.3333333333333333,
            "#9c179e"
           ],
           [
            0.4444444444444444,
            "#bd3786"
           ],
           [
            0.5555555555555556,
            "#d8576b"
           ],
           [
            0.6666666666666666,
            "#ed7953"
           ],
           [
            0.7777777777777778,
            "#fb9f3a"
           ],
           [
            0.8888888888888888,
            "#fdca26"
           ],
           [
            1,
            "#f0f921"
           ]
          ],
          "opacity": 0.8,
          "size": 3
         },
         "mode": "markers",
         "name": "DDR",
         "showlegend": true,
         "type": "scatter3d",
         "x": [
          0.0125,
          0.025,
          0.037500000000000006,
          0.05,
          0.0625,
          0.075,
          0.0875,
          0.09999999999999999,
          0.11249999999999999,
          0.12499999999999999,
          0.13749999999999998,
          0.15,
          0.1625,
          0.17500000000000002,
          0.18750000000000003,
          0.20000000000000004,
          0.21250000000000005,
          0.22500000000000006,
          0.23750000000000007,
          0.25000000000000006,
          0.26250000000000007,
          0.2750000000000001,
          0.2875000000000001,
          0.3000000000000001,
          0.3125000000000001,
          0.3250000000000001,
          0.33750000000000013,
          0.35000000000000014,
          0.36250000000000016,
          0.37500000000000017,
          0.3875000000000002,
          0.4000000000000002,
          0.4125000000000002,
          0.4250000000000002,
          0.4375000000000002,
          0.45000000000000023,
          0.46250000000000024,
          0.47500000000000026,
          0.48750000000000027,
          0.5000000000000002
         ],
         "y": [
          0,
          0,
          0,
          0,
          0,
          0,
          0,
          0,
          0,
          0,
          0,
          0,
          0,
          0,
          0,
          0,
          0,
          0,
          0,
          0,
          0,
          0,
          0,
          0,
          0,
          0,
          0,
          0,
          0,
          0,
          0,
          0,
          0,
          0,
          0,
          0,
          0,
          0,
          0,
          0
         ],
         "z": [
          0.04,
          0.04,
          0.04,
          0.04,
          0.04,
          0.04,
          0.04,
          0.04,
          0.04,
          0.04,
          0.04,
          0.04,
          0.04,
          0.04,
          0.04,
          0.04,
          0.04,
          0.04,
          0.04,
          0.04,
          0.04,
          0.04,
          0.04,
          0.04,
          0.04,
          0.04,
          0.04,
          0.04,
          0.04,
          0.04,
          0.04,
          0.04,
          0.04,
          0.04,
          0.04,
          0.04,
          0.04,
          0.04,
          0.04,
          0.04
         ]
        },
        {
         "legendgroup": "Frames",
         "legendgrouptitle": {
          "text": "Frames"
         },
         "marker": {
          "color": "black",
          "opacity": 0.8,
          "size": 4
         },
         "mode": "markers",
         "name": "",
         "showlegend": false,
         "type": "scatter3d",
         "x": [
          0.0125
         ],
         "y": [
          0
         ],
         "z": [
          0.04
         ]
        },
        {
         "hoverinfo": "skip",
         "line": {
          "color": "red",
          "width": 2
         },
         "mode": "lines",
         "name": "x",
         "showlegend": false,
         "type": "scatter3d",
         "x": [
          0.0125,
          0.1125
         ],
         "y": [
          0,
          0
         ],
         "z": [
          0.04,
          0.04
         ]
        },
        {
         "hoverinfo": "skip",
         "line": {
          "color": "green",
          "width": 2
         },
         "mode": "lines",
         "name": "y",
         "showlegend": false,
         "type": "scatter3d",
         "x": [
          0.0125,
          0.0125
         ],
         "y": [
          0,
          0.1
         ],
         "z": [
          0.04,
          0.04
         ]
        },
        {
         "hoverinfo": "skip",
         "line": {
          "color": "blue",
          "width": 2
         },
         "mode": "lines",
         "name": "z",
         "showlegend": false,
         "type": "scatter3d",
         "x": [
          0.0125,
          0.0125
         ],
         "y": [
          0,
          0
         ],
         "z": [
          0.04,
          0.14
         ]
        },
        {
         "legendgroup": "Frames",
         "legendgrouptitle": {
          "text": "Frames"
         },
         "marker": {
          "color": "black",
          "opacity": 0.8,
          "size": 4
         },
         "mode": "markers",
         "name": "",
         "showlegend": false,
         "type": "scatter3d",
         "x": [
          0.11249999999999999
         ],
         "y": [
          0
         ],
         "z": [
          0.04
         ]
        },
        {
         "hoverinfo": "skip",
         "line": {
          "color": "red",
          "width": 2
         },
         "mode": "lines",
         "name": "x",
         "showlegend": false,
         "type": "scatter3d",
         "x": [
          0.11249999999999999,
          0.2125
         ],
         "y": [
          0,
          0
         ],
         "z": [
          0.04,
          0.04
         ]
        },
        {
         "hoverinfo": "skip",
         "line": {
          "color": "green",
          "width": 2
         },
         "mode": "lines",
         "name": "y",
         "showlegend": false,
         "type": "scatter3d",
         "x": [
          0.11249999999999999,
          0.11249999999999999
         ],
         "y": [
          0,
          0.1
         ],
         "z": [
          0.04,
          0.04
         ]
        },
        {
         "hoverinfo": "skip",
         "line": {
          "color": "blue",
          "width": 2
         },
         "mode": "lines",
         "name": "z",
         "showlegend": false,
         "type": "scatter3d",
         "x": [
          0.11249999999999999,
          0.11249999999999999
         ],
         "y": [
          0,
          0
         ],
         "z": [
          0.04,
          0.14
         ]
        },
        {
         "legendgroup": "Frames",
         "legendgrouptitle": {
          "text": "Frames"
         },
         "marker": {
          "color": "black",
          "opacity": 0.8,
          "size": 4
         },
         "mode": "markers",
         "name": "",
         "showlegend": false,
         "type": "scatter3d",
         "x": [
          0.21250000000000005
         ],
         "y": [
          0
         ],
         "z": [
          0.04
         ]
        },
        {
         "hoverinfo": "skip",
         "line": {
          "color": "red",
          "width": 2
         },
         "mode": "lines",
         "name": "x",
         "showlegend": false,
         "type": "scatter3d",
         "x": [
          0.21250000000000005,
          0.31250000000000006
         ],
         "y": [
          0,
          0
         ],
         "z": [
          0.04,
          0.04
         ]
        },
        {
         "hoverinfo": "skip",
         "line": {
          "color": "green",
          "width": 2
         },
         "mode": "lines",
         "name": "y",
         "showlegend": false,
         "type": "scatter3d",
         "x": [
          0.21250000000000005,
          0.21250000000000005
         ],
         "y": [
          0,
          0.1
         ],
         "z": [
          0.04,
          0.04
         ]
        },
        {
         "hoverinfo": "skip",
         "line": {
          "color": "blue",
          "width": 2
         },
         "mode": "lines",
         "name": "z",
         "showlegend": false,
         "type": "scatter3d",
         "x": [
          0.21250000000000005,
          0.21250000000000005
         ],
         "y": [
          0,
          0
         ],
         "z": [
          0.04,
          0.14
         ]
        },
        {
         "legendgroup": "Frames",
         "legendgrouptitle": {
          "text": "Frames"
         },
         "marker": {
          "color": "black",
          "opacity": 0.8,
          "size": 4
         },
         "mode": "markers",
         "name": "",
         "showlegend": false,
         "type": "scatter3d",
         "x": [
          0.3125000000000001
         ],
         "y": [
          0
         ],
         "z": [
          0.04
         ]
        },
        {
         "hoverinfo": "skip",
         "line": {
          "color": "red",
          "width": 2
         },
         "mode": "lines",
         "name": "x",
         "showlegend": false,
         "type": "scatter3d",
         "x": [
          0.3125000000000001,
          0.4125000000000001
         ],
         "y": [
          0,
          0
         ],
         "z": [
          0.04,
          0.04
         ]
        },
        {
         "hoverinfo": "skip",
         "line": {
          "color": "green",
          "width": 2
         },
         "mode": "lines",
         "name": "y",
         "showlegend": false,
         "type": "scatter3d",
         "x": [
          0.3125000000000001,
          0.3125000000000001
         ],
         "y": [
          0,
          0.1
         ],
         "z": [
          0.04,
          0.04
         ]
        },
        {
         "hoverinfo": "skip",
         "line": {
          "color": "blue",
          "width": 2
         },
         "mode": "lines",
         "name": "z",
         "showlegend": false,
         "type": "scatter3d",
         "x": [
          0.3125000000000001,
          0.3125000000000001
         ],
         "y": [
          0,
          0
         ],
         "z": [
          0.04,
          0.14
         ]
        },
        {
         "legendgroup": "Frames",
         "legendgrouptitle": {
          "text": "Frames"
         },
         "marker": {
          "color": "black",
          "opacity": 0.8,
          "size": 4
         },
         "mode": "markers",
         "name": "",
         "showlegend": false,
         "type": "scatter3d",
         "x": [
          0.4125000000000002
         ],
         "y": [
          0
         ],
         "z": [
          0.04
         ]
        },
        {
         "hoverinfo": "skip",
         "line": {
          "color": "red",
          "width": 2
         },
         "mode": "lines",
         "name": "x",
         "showlegend": false,
         "type": "scatter3d",
         "x": [
          0.4125000000000002,
          0.5125000000000002
         ],
         "y": [
          0,
          0
         ],
         "z": [
          0.04,
          0.04
         ]
        },
        {
         "hoverinfo": "skip",
         "line": {
          "color": "green",
          "width": 2
         },
         "mode": "lines",
         "name": "y",
         "showlegend": false,
         "type": "scatter3d",
         "x": [
          0.4125000000000002,
          0.4125000000000002
         ],
         "y": [
          0,
          0.1
         ],
         "z": [
          0.04,
          0.04
         ]
        },
        {
         "hoverinfo": "skip",
         "line": {
          "color": "blue",
          "width": 2
         },
         "mode": "lines",
         "name": "z",
         "showlegend": false,
         "type": "scatter3d",
         "x": [
          0.4125000000000002,
          0.4125000000000002
         ],
         "y": [
          0,
          0
         ],
         "z": [
          0.04,
          0.14
         ]
        }
       ],
       "layout": {
        "font": {
         "color": "black",
         "family": "Arial",
         "size": 15
        },
        "height": 700,
        "scene": {
         "aspectmode": "cube",
         "camera": {
          "projection": {
           "type": "orthographic"
          }
         },
         "xaxis": {
          "range": [
           -4,
           4
          ],
          "showaxeslabels": false,
          "showbackground": false,
          "showgrid": false,
          "showspikes": false,
          "showticklabels": false,
          "title": {
           "text": ""
          }
         },
         "yaxis": {
          "range": [
           -4,
           4
          ],
          "showaxeslabels": false,
          "showbackground": false,
          "showgrid": false,
          "showspikes": false,
          "showticklabels": false,
          "title": {
           "text": ""
          }
         },
         "zaxis": {
          "range": [
           -4,
           4
          ],
          "showaxeslabels": false,
          "showbackground": false,
          "showgrid": false,
          "showspikes": false,
          "showticklabels": false,
          "title": {
           "text": ""
          }
         }
        },
        "template": {
         "data": {
          "bar": [
           {
            "error_x": {
             "color": "#2a3f5f"
            },
            "error_y": {
             "color": "#2a3f5f"
            },
            "marker": {
             "line": {
              "color": "#E5ECF6",
              "width": 0.5
             },
             "pattern": {
              "fillmode": "overlay",
              "size": 10,
              "solidity": 0.2
             }
            },
            "type": "bar"
           }
          ],
          "barpolar": [
           {
            "marker": {
             "line": {
              "color": "#E5ECF6",
              "width": 0.5
             },
             "pattern": {
              "fillmode": "overlay",
              "size": 10,
              "solidity": 0.2
             }
            },
            "type": "barpolar"
           }
          ],
          "carpet": [
           {
            "aaxis": {
             "endlinecolor": "#2a3f5f",
             "gridcolor": "white",
             "linecolor": "white",
             "minorgridcolor": "white",
             "startlinecolor": "#2a3f5f"
            },
            "baxis": {
             "endlinecolor": "#2a3f5f",
             "gridcolor": "white",
             "linecolor": "white",
             "minorgridcolor": "white",
             "startlinecolor": "#2a3f5f"
            },
            "type": "carpet"
           }
          ],
          "choropleth": [
           {
            "colorbar": {
             "outlinewidth": 0,
             "ticks": ""
            },
            "type": "choropleth"
           }
          ],
          "contour": [
           {
            "colorbar": {
             "outlinewidth": 0,
             "ticks": ""
            },
            "colorscale": [
             [
              0,
              "#0d0887"
             ],
             [
              0.1111111111111111,
              "#46039f"
             ],
             [
              0.2222222222222222,
              "#7201a8"
             ],
             [
              0.3333333333333333,
              "#9c179e"
             ],
             [
              0.4444444444444444,
              "#bd3786"
             ],
             [
              0.5555555555555556,
              "#d8576b"
             ],
             [
              0.6666666666666666,
              "#ed7953"
             ],
             [
              0.7777777777777778,
              "#fb9f3a"
             ],
             [
              0.8888888888888888,
              "#fdca26"
             ],
             [
              1,
              "#f0f921"
             ]
            ],
            "type": "contour"
           }
          ],
          "contourcarpet": [
           {
            "colorbar": {
             "outlinewidth": 0,
             "ticks": ""
            },
            "type": "contourcarpet"
           }
          ],
          "heatmap": [
           {
            "colorbar": {
             "outlinewidth": 0,
             "ticks": ""
            },
            "colorscale": [
             [
              0,
              "#0d0887"
             ],
             [
              0.1111111111111111,
              "#46039f"
             ],
             [
              0.2222222222222222,
              "#7201a8"
             ],
             [
              0.3333333333333333,
              "#9c179e"
             ],
             [
              0.4444444444444444,
              "#bd3786"
             ],
             [
              0.5555555555555556,
              "#d8576b"
             ],
             [
              0.6666666666666666,
              "#ed7953"
             ],
             [
              0.7777777777777778,
              "#fb9f3a"
             ],
             [
              0.8888888888888888,
              "#fdca26"
             ],
             [
              1,
              "#f0f921"
             ]
            ],
            "type": "heatmap"
           }
          ],
          "heatmapgl": [
           {
            "colorbar": {
             "outlinewidth": 0,
             "ticks": ""
            },
            "colorscale": [
             [
              0,
              "#0d0887"
             ],
             [
              0.1111111111111111,
              "#46039f"
             ],
             [
              0.2222222222222222,
              "#7201a8"
             ],
             [
              0.3333333333333333,
              "#9c179e"
             ],
             [
              0.4444444444444444,
              "#bd3786"
             ],
             [
              0.5555555555555556,
              "#d8576b"
             ],
             [
              0.6666666666666666,
              "#ed7953"
             ],
             [
              0.7777777777777778,
              "#fb9f3a"
             ],
             [
              0.8888888888888888,
              "#fdca26"
             ],
             [
              1,
              "#f0f921"
             ]
            ],
            "type": "heatmapgl"
           }
          ],
          "histogram": [
           {
            "marker": {
             "pattern": {
              "fillmode": "overlay",
              "size": 10,
              "solidity": 0.2
             }
            },
            "type": "histogram"
           }
          ],
          "histogram2d": [
           {
            "colorbar": {
             "outlinewidth": 0,
             "ticks": ""
            },
            "colorscale": [
             [
              0,
              "#0d0887"
             ],
             [
              0.1111111111111111,
              "#46039f"
             ],
             [
              0.2222222222222222,
              "#7201a8"
             ],
             [
              0.3333333333333333,
              "#9c179e"
             ],
             [
              0.4444444444444444,
              "#bd3786"
             ],
             [
              0.5555555555555556,
              "#d8576b"
             ],
             [
              0.6666666666666666,
              "#ed7953"
             ],
             [
              0.7777777777777778,
              "#fb9f3a"
             ],
             [
              0.8888888888888888,
              "#fdca26"
             ],
             [
              1,
              "#f0f921"
             ]
            ],
            "type": "histogram2d"
           }
          ],
          "histogram2dcontour": [
           {
            "colorbar": {
             "outlinewidth": 0,
             "ticks": ""
            },
            "colorscale": [
             [
              0,
              "#0d0887"
             ],
             [
              0.1111111111111111,
              "#46039f"
             ],
             [
              0.2222222222222222,
              "#7201a8"
             ],
             [
              0.3333333333333333,
              "#9c179e"
             ],
             [
              0.4444444444444444,
              "#bd3786"
             ],
             [
              0.5555555555555556,
              "#d8576b"
             ],
             [
              0.6666666666666666,
              "#ed7953"
             ],
             [
              0.7777777777777778,
              "#fb9f3a"
             ],
             [
              0.8888888888888888,
              "#fdca26"
             ],
             [
              1,
              "#f0f921"
             ]
            ],
            "type": "histogram2dcontour"
           }
          ],
          "mesh3d": [
           {
            "colorbar": {
             "outlinewidth": 0,
             "ticks": ""
            },
            "type": "mesh3d"
           }
          ],
          "parcoords": [
           {
            "line": {
             "colorbar": {
              "outlinewidth": 0,
              "ticks": ""
             }
            },
            "type": "parcoords"
           }
          ],
          "pie": [
           {
            "automargin": true,
            "type": "pie"
           }
          ],
          "scatter": [
           {
            "fillpattern": {
             "fillmode": "overlay",
             "size": 10,
             "solidity": 0.2
            },
            "type": "scatter"
           }
          ],
          "scatter3d": [
           {
            "line": {
             "colorbar": {
              "outlinewidth": 0,
              "ticks": ""
             }
            },
            "marker": {
             "colorbar": {
              "outlinewidth": 0,
              "ticks": ""
             }
            },
            "type": "scatter3d"
           }
          ],
          "scattercarpet": [
           {
            "marker": {
             "colorbar": {
              "outlinewidth": 0,
              "ticks": ""
             }
            },
            "type": "scattercarpet"
           }
          ],
          "scattergeo": [
           {
            "marker": {
             "colorbar": {
              "outlinewidth": 0,
              "ticks": ""
             }
            },
            "type": "scattergeo"
           }
          ],
          "scattergl": [
           {
            "marker": {
             "colorbar": {
              "outlinewidth": 0,
              "ticks": ""
             }
            },
            "type": "scattergl"
           }
          ],
          "scattermapbox": [
           {
            "marker": {
             "colorbar": {
              "outlinewidth": 0,
              "ticks": ""
             }
            },
            "type": "scattermapbox"
           }
          ],
          "scatterpolar": [
           {
            "marker": {
             "colorbar": {
              "outlinewidth": 0,
              "ticks": ""
             }
            },
            "type": "scatterpolar"
           }
          ],
          "scatterpolargl": [
           {
            "marker": {
             "colorbar": {
              "outlinewidth": 0,
              "ticks": ""
             }
            },
            "type": "scatterpolargl"
           }
          ],
          "scatterternary": [
           {
            "marker": {
             "colorbar": {
              "outlinewidth": 0,
              "ticks": ""
             }
            },
            "type": "scatterternary"
           }
          ],
          "surface": [
           {
            "colorbar": {
             "outlinewidth": 0,
             "ticks": ""
            },
            "colorscale": [
             [
              0,
              "#0d0887"
             ],
             [
              0.1111111111111111,
              "#46039f"
             ],
             [
              0.2222222222222222,
              "#7201a8"
             ],
             [
              0.3333333333333333,
              "#9c179e"
             ],
             [
              0.4444444444444444,
              "#bd3786"
             ],
             [
              0.5555555555555556,
              "#d8576b"
             ],
             [
              0.6666666666666666,
              "#ed7953"
             ],
             [
              0.7777777777777778,
              "#fb9f3a"
             ],
             [
              0.8888888888888888,
              "#fdca26"
             ],
             [
              1,
              "#f0f921"
             ]
            ],
            "type": "surface"
           }
          ],
          "table": [
           {
            "cells": {
             "fill": {
              "color": "#EBF0F8"
             },
             "line": {
              "color": "white"
             }
            },
            "header": {
             "fill": {
              "color": "#C8D4E3"
             },
             "line": {
              "color": "white"
             }
            },
            "type": "table"
           }
          ]
         },
         "layout": {
          "annotationdefaults": {
           "arrowcolor": "#2a3f5f",
           "arrowhead": 0,
           "arrowwidth": 1
          },
          "autotypenumbers": "strict",
          "coloraxis": {
           "colorbar": {
            "outlinewidth": 0,
            "ticks": ""
           }
          },
          "colorscale": {
           "diverging": [
            [
             0,
             "#8e0152"
            ],
            [
             0.1,
             "#c51b7d"
            ],
            [
             0.2,
             "#de77ae"
            ],
            [
             0.3,
             "#f1b6da"
            ],
            [
             0.4,
             "#fde0ef"
            ],
            [
             0.5,
             "#f7f7f7"
            ],
            [
             0.6,
             "#e6f5d0"
            ],
            [
             0.7,
             "#b8e186"
            ],
            [
             0.8,
             "#7fbc41"
            ],
            [
             0.9,
             "#4d9221"
            ],
            [
             1,
             "#276419"
            ]
           ],
           "sequential": [
            [
             0,
             "#0d0887"
            ],
            [
             0.1111111111111111,
             "#46039f"
            ],
            [
             0.2222222222222222,
             "#7201a8"
            ],
            [
             0.3333333333333333,
             "#9c179e"
            ],
            [
             0.4444444444444444,
             "#bd3786"
            ],
            [
             0.5555555555555556,
             "#d8576b"
            ],
            [
             0.6666666666666666,
             "#ed7953"
            ],
            [
             0.7777777777777778,
             "#fb9f3a"
            ],
            [
             0.8888888888888888,
             "#fdca26"
            ],
            [
             1,
             "#f0f921"
            ]
           ],
           "sequentialminus": [
            [
             0,
             "#0d0887"
            ],
            [
             0.1111111111111111,
             "#46039f"
            ],
            [
             0.2222222222222222,
             "#7201a8"
            ],
            [
             0.3333333333333333,
             "#9c179e"
            ],
            [
             0.4444444444444444,
             "#bd3786"
            ],
            [
             0.5555555555555556,
             "#d8576b"
            ],
            [
             0.6666666666666666,
             "#ed7953"
            ],
            [
             0.7777777777777778,
             "#fb9f3a"
            ],
            [
             0.8888888888888888,
             "#fdca26"
            ],
            [
             1,
             "#f0f921"
            ]
           ]
          },
          "colorway": [
           "#636efa",
           "#EF553B",
           "#00cc96",
           "#ab63fa",
           "#FFA15A",
           "#19d3f3",
           "#FF6692",
           "#B6E880",
           "#FF97FF",
           "#FECB52"
          ],
          "font": {
           "color": "#2a3f5f"
          },
          "geo": {
           "bgcolor": "white",
           "lakecolor": "white",
           "landcolor": "#E5ECF6",
           "showlakes": true,
           "showland": true,
           "subunitcolor": "white"
          },
          "hoverlabel": {
           "align": "left"
          },
          "hovermode": "closest",
          "mapbox": {
           "style": "light"
          },
          "paper_bgcolor": "white",
          "plot_bgcolor": "#E5ECF6",
          "polar": {
           "angularaxis": {
            "gridcolor": "white",
            "linecolor": "white",
            "ticks": ""
           },
           "bgcolor": "#E5ECF6",
           "radialaxis": {
            "gridcolor": "white",
            "linecolor": "white",
            "ticks": ""
           }
          },
          "scene": {
           "xaxis": {
            "backgroundcolor": "#E5ECF6",
            "gridcolor": "white",
            "gridwidth": 2,
            "linecolor": "white",
            "showbackground": true,
            "ticks": "",
            "zerolinecolor": "white"
           },
           "yaxis": {
            "backgroundcolor": "#E5ECF6",
            "gridcolor": "white",
            "gridwidth": 2,
            "linecolor": "white",
            "showbackground": true,
            "ticks": "",
            "zerolinecolor": "white"
           },
           "zaxis": {
            "backgroundcolor": "#E5ECF6",
            "gridcolor": "white",
            "gridwidth": 2,
            "linecolor": "white",
            "showbackground": true,
            "ticks": "",
            "zerolinecolor": "white"
           }
          },
          "shapedefaults": {
           "line": {
            "color": "#2a3f5f"
           }
          },
          "ternary": {
           "aaxis": {
            "gridcolor": "white",
            "linecolor": "white",
            "ticks": ""
           },
           "baxis": {
            "gridcolor": "white",
            "linecolor": "white",
            "ticks": ""
           },
           "bgcolor": "#E5ECF6",
           "caxis": {
            "gridcolor": "white",
            "linecolor": "white",
            "ticks": ""
           }
          },
          "title": {
           "x": 0.05
          },
          "xaxis": {
           "automargin": true,
           "gridcolor": "white",
           "linecolor": "white",
           "ticks": "",
           "title": {
            "standoff": 15
           },
           "zerolinecolor": "white",
           "zerolinewidth": 2
          },
          "yaxis": {
           "automargin": true,
           "gridcolor": "white",
           "linecolor": "white",
           "ticks": "",
           "title": {
            "standoff": 15
           },
           "zerolinecolor": "white",
           "zerolinewidth": 2
          }
         }
        },
        "title": {
         "text": "Requested:\n'Ande 50 cm'"
        },
        "width": 700
       }
      }
     },
     "metadata": {},
     "output_type": "display_data"
    }
   ],
   "source": [
    "# Create the Scene Viewer\n",
    "scene = Viewer3D(title=f\"Requested:\\n'{recognized_speech}'\", \n",
    "                 size=4) # In m\n",
    "\n",
    "# Add inertial reference\n",
    "scene.add_frame(\n",
    "    transformation=np.eye(4), \n",
    "    name=\"Inertial Reference\", \n",
    "    axis_size=5\n",
    ")\n",
    "\n",
    "# Add robot trajectory \n",
    "scene.add_points(points=trajectory, \n",
    "                 name='DDR',\n",
    "                 color=time_vector,\n",
    "                 colorscale='plasma',\n",
    "                 range=[time_vector[0], time_vector[-1] + 0.5],\n",
    "                 colorbar=\"Time (s)\")\n",
    "\n",
    "# Display poses\n",
    "n_poses = 5\n",
    "for pose in poses[::len(poses) // n_poses]:\n",
    "    # Add poses\n",
    "    scene.add_frame(\n",
    "        transformation=pose, \n",
    "        axis_size=0.1,\n",
    "        color='black'\n",
    "    )\n",
    "\n",
    "scene.figure.show()"
   ]
  }
 ],
 "metadata": {
  "kernelspec": {
   "display_name": ".venv",
   "language": "python",
   "name": "python3"
  },
  "language_info": {
   "codemirror_mode": {
    "name": "ipython",
    "version": 3
   },
   "file_extension": ".py",
   "mimetype": "text/x-python",
   "name": "python",
   "nbconvert_exporter": "python",
   "pygments_lexer": "ipython3",
   "version": "3.12.0"
  }
 },
 "nbformat": 4,
 "nbformat_minor": 2
}
