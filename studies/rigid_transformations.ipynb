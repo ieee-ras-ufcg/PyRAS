{
 "cells": [
  {
   "cell_type": "markdown",
   "metadata": {},
   "source": [
    "# Rigid Transformations\n",
    "\n",
    "This *Jupyter Notebook* is dedicated to the study of **Rigid Transformations** and its properties.\n",
    "\n",
    "The following study will be developed by the implementation of *Python* code for the application and visualization of the concepts learned with the use of *NumPy* and *Plotly* libraries. \n",
    "\n",
    "The following content is guided by the [Foundations of Robotics](https://www.youtube.com/playlist?list=PLoWGuY2dW-Acmc8V5NYSAXBxADMm1rE4p) course lectured by Oscar Ramos for the Universidad de Ingeniería y Tecnología (UTEC), 2018.\n",
    "\n",
    "---"
   ]
  },
  {
   "cell_type": "markdown",
   "metadata": {},
   "source": [
    "## Reference Frames\n",
    "\n",
    "A Frame is essentially a way to stablish a spacial relation between elements. It can also be interpreted as the following:\n",
    "\n",
    "- A **Coordinate System**;\n",
    "- The base of a **Vector Space**;\n",
    "- A representation of the **position** and **orientation** of a rigid body;\n",
    "\n",
    "Important observations regarding frames:\n",
    "\n",
    "- Completely defined by its **axes**;\n",
    "- Its axes are usually unit vectors;\n",
    "- Represented by the base of a vector space notation $\\{F\\}$;\n",
    "- Elements represented in respect to a frame are superscripted by its name, e.g ${}^{F}E$.\n",
    "\n",
    "---"
   ]
  },
  {
   "cell_type": "markdown",
   "metadata": {},
   "source": [
    "### Rotation Matrices\n",
    "\n",
    "For each frame\"s perspective, their fundamental matrix that represents its axes will always be an identity matrix $I$ (or canonic). Therefore, to represent a frame in another frame\"s perspective, it is essential to know the spatial relationship between these frames. \n",
    "\n",
    "This spatial relationship is described by the **Rotation Matrix** between these frames. For now, the frames will have the same origin points.\n",
    "\n",
    "The rotation matrices will be represented as: $$\\begin{bmatrix} | & | & | \\\\ \\hat{x} & \\hat{y} & \\hat{z} \\\\ | & | & | \\end{bmatrix}$$\n",
    "\n",
    "Interpreting the world in a frame\"s perspective is simple: assume that the known frame is represented by $I$. Seeing other frames in its perspective is just representing them by the rotation matrix that correlates the main frame in perspective to the observed frame. Mathematically:\n",
    "1. Let a main frame $\\{M\\}$ be represented by $I$;\n",
    "2. If an observed frame $\\{O\\}$ can be transformed into $\\{M\\}$ by a rotation matrix $R$, the frame $\\{O\\}$ will be represented by the rotation matrix ${}^{M}R_{O}$ in respect to the frame $\\{M\\}$;\n",
    "3. Therefore, any given point ${}^{O}P$  can be viewed by the perspective of the frame $\\{M\\}$ by: $${}^{M}P = {}^{M}R_{O} \\cdot {}^{O}P$$\n",
    "4. The inverse action holds: $${}^{O}P = {}^{O}R_{M} \\cdot {}^{M}P$$\n",
    "5. Explicitly:\n",
    "$${}^{M}R_{O}=\\begin{bmatrix} \\hat{x}_O \\cdot \\hat{x}_M & \\hat{y}_O \\cdot \\hat{x}_M & \\hat{z}_O \\cdot \\hat{x}_M  \\\\ \\hat{x}_O \\cdot \\hat{y}_M & \\hat{y}_O \\cdot \\hat{y}_M & \\hat{z}_O \\cdot \\hat{y}_M  \\\\ \\hat{x}_O \\cdot \\hat{z}_M & \\hat{y}_O \\cdot \\hat{z}_M & \\hat{z}_O \\cdot \\hat{z}_M \\end{bmatrix}$$\n",
    "\n",
    "---"
   ]
  },
  {
   "cell_type": "markdown",
   "metadata": {},
   "source": [
    "### Properties of Rotation Matrices\n",
    "\n",
    "Rotation matrices follow these properties:\n",
    "- ${}^{B}R_{A}={}^{A}R_{B}^{-1}={}^{A}R_{B}^{T}$\n",
    "- ${}^{A}R_{Z}={}^{A}R_{B}\\cdot {}^{B}R_{C} \\cdot ... \\cdot {}^{X}R_{Y}\\cdot{}^{Y}R_{Z}$\n",
    "- $\\det(R) = +1$\n",
    "\n",
    "It is possible to interpret rotation matrices as rotation operators for elements. Therefore, applying the same rotation matrix to all points in a point cloud will result it to be rotated as such. In this case:\n",
    "- Post-multiplication will be applied when rotating in the **current** frame;\n",
    "- Pre-multiplication will be applied when rotating in the **fixed** frame;\n",
    "\n",
    "---"
   ]
  },
  {
   "cell_type": "markdown",
   "metadata": {},
   "source": [
    "### Homogeneous Transformations\n",
    "\n",
    "To represent a point in a rotated *and* translated observed frame $O$, the following relationship is used: $${}^{O}P={}^{O}R_{M} \\cdot {}^{M}P + {}^{O}t$$\n",
    "\n",
    "In matrix representation: $$\\begin{bmatrix} {}^{O}P \\\\ 1 \\end{bmatrix} = \\begin{bmatrix} {}^{O}R_{M} & {}^{O}t_{M} \\\\ 0 & 1 \\end{bmatrix} \\cdot \\begin{bmatrix} {}^{M}P \\\\ 1 \\end{bmatrix}$$ \n",
    "\n",
    "And in a compact way: $${}^{O}\\tilde{P} = {}^{O}H_{M} \\cdot {}^{M}\\tilde{P}$$\n",
    "\n",
    "Where ${}^{O}H$ is the homogeneous transformation to reference frame $O$ and the tilded coordinates are homogeneous coordinates.\n",
    "\n",
    "A **Homogeneous Transformation Matrix** $H$ represents both position and orientation (pose) of a frame in relation to another in a single matrix, such that:\n",
    "\n",
    "$$H = \\begin{bmatrix} r_{11} & r_{12} & r_{13} & t_{x} \\\\ r_{21} & r_{22} & r_{23} & t_{y} \\\\ r_{31} & r_{32} & r_{33} & t_{z} \\\\ 0 & 0 & 0 & 1 \\end{bmatrix} = \\begin{bmatrix} R & t \\\\ 0 & 1 \\end{bmatrix}$$\n",
    "\n",
    "For the inverse of a homogeneous transformation, the following formula applies: $$H^{-1}= \\begin{bmatrix} R^T & -R^T t \\\\ 0 & 1 \\end{bmatrix}$$\n",
    "\n",
    "The main purpose of using homogeneous transformations is to change the rotation and translation transformation from affine representation to linear representation, which is more convenient. \n",
    "\n",
    "---"
   ]
  },
  {
   "cell_type": "code",
   "execution_count": null,
   "metadata": {},
   "outputs": [],
   "source": [
    "# Importing modules...\n",
    "import numpy as np\n",
    "from scipy.spatial.transform import Rotation\n",
    "\n",
    "import sys\n",
    "\n",
    "sys.path.append(\"..\")  # Go back to base directory\n",
    "\n",
    "from modules.viewer3d import *"
   ]
  },
  {
   "cell_type": "code",
   "execution_count": null,
   "metadata": {},
   "outputs": [],
   "source": [
    "# Make coordinates homogeneous\n",
    "def to_homo(points):\n",
    "    return np.vstack((points, np.ones(points.shape[1])))\n",
    "\n",
    "\n",
    "# Joins the rotation and translation matrices to make a homogeneous transformation\n",
    "def join_homo(R, t):\n",
    "    return np.vstack((np.hstack((R, t)), np.array([0, 0, 0, 1])))\n",
    "\n",
    "\n",
    "# Extract the rotation and translation matrices from the homogeneous transformation\n",
    "def split_homo(H):\n",
    "    return H[0:3, 0:3], H[0:3, [-1]]"
   ]
  },
  {
   "cell_type": "code",
   "execution_count": null,
   "metadata": {},
   "outputs": [],
   "source": [
    "# Random rotation matrix\n",
    "def random_rotation():\n",
    "    rotation = np.eye(3)\n",
    "    for axis in [\"x\", \"y\", \"z\"]:\n",
    "        rotation = (\n",
    "            Rotation.from_euler(\n",
    "                axis, np.random.randint(0, 360), degrees=True\n",
    "            ).as_matrix()\n",
    "            @ rotation\n",
    "        )\n",
    "\n",
    "    return rotation\n",
    "\n",
    "\n",
    "# Random translation matrix\n",
    "def random_translation(L):  # Confined in a cube with an edge of length L\n",
    "    return np.array([[2 * L * np.random.random_sample() - L] for _ in range(3)])"
   ]
  },
  {
   "cell_type": "code",
   "execution_count": null,
   "metadata": {},
   "outputs": [],
   "source": [
    "# Returns the vertices of an unit cube with corner in origin\n",
    "def cube(position=np.zeros((3, 1)), size=1):\n",
    "    vertices = (\n",
    "        np.array([[(V >> 2) & 1, (V >> 1) & 1, (V >> 0) & 1] for V in range(8)]).T\n",
    "        * size\n",
    "        + position\n",
    "    )\n",
    "\n",
    "    return vertices"
   ]
  },
  {
   "cell_type": "code",
   "execution_count": null,
   "metadata": {},
   "outputs": [
    {
     "data": {
      "text/html": [
       "        <script type=\"text/javascript\">\n",
       "        window.PlotlyConfig = {MathJaxConfig: 'local'};\n",
       "        if (window.MathJax && window.MathJax.Hub && window.MathJax.Hub.Config) {window.MathJax.Hub.Config({SVG: {font: \"STIX-Web\"}});}\n",
       "        if (typeof require !== 'undefined') {\n",
       "        require.undef(\"plotly\");\n",
       "        requirejs.config({\n",
       "            paths: {\n",
       "                'plotly': ['https://cdn.plot.ly/plotly-2.27.0.min']\n",
       "            }\n",
       "        });\n",
       "        require(['plotly'], function(Plotly) {\n",
       "            window._Plotly = Plotly;\n",
       "        });\n",
       "        }\n",
       "        </script>\n",
       "        "
      ]
     },
     "metadata": {},
     "output_type": "display_data"
    },
    {
     "data": {
      "text/html": [
       "<div>                            <div id=\"bd03d696-3fd8-4a2f-bb00-ddcaab7aedb3\" class=\"plotly-graph-div\" style=\"height:700px; width:700px;\"></div>            <script type=\"text/javascript\">                require([\"plotly\"], function(Plotly) {                    window.PLOTLYENV=window.PLOTLYENV || {};                                    if (document.getElementById(\"bd03d696-3fd8-4a2f-bb00-ddcaab7aedb3\")) {                    Plotly.newPlot(                        \"bd03d696-3fd8-4a2f-bb00-ddcaab7aedb3\",                        [{\"legendgroup\":\"Frames\",\"legendgrouptitle\":{\"text\":\"Frames\"},\"marker\":{\"opacity\":0.8,\"size\":4},\"mode\":\"markers\",\"name\":\"W\",\"showlegend\":true,\"x\":[0.0],\"y\":[0.0],\"z\":[0.0],\"type\":\"scatter3d\"},{\"hoverinfo\":\"skip\",\"line\":{\"color\":\"red\",\"width\":2},\"mode\":\"lines\",\"name\":\"xW\",\"showlegend\":false,\"x\":[0.0,1.0],\"y\":[0.0,0.0],\"z\":[0.0,0.0],\"type\":\"scatter3d\"},{\"hoverinfo\":\"skip\",\"line\":{\"color\":\"green\",\"width\":2},\"mode\":\"lines\",\"name\":\"yW\",\"showlegend\":false,\"x\":[0.0,0.0],\"y\":[0.0,1.0],\"z\":[0.0,0.0],\"type\":\"scatter3d\"},{\"hoverinfo\":\"skip\",\"line\":{\"color\":\"blue\",\"width\":2},\"mode\":\"lines\",\"name\":\"zW\",\"showlegend\":false,\"x\":[0.0,0.0],\"y\":[0.0,0.0],\"z\":[0.0,1.0],\"type\":\"scatter3d\"},{\"legendgroup\":\"Points\",\"legendgrouptitle\":{\"text\":\"Points\"},\"marker\":{\"color\":\"black\",\"opacity\":0.8,\"size\":3},\"mode\":\"markers\",\"name\":\"0\\u00b0\",\"showlegend\":true,\"x\":[1.0],\"y\":[1.0],\"z\":[1.0],\"type\":\"scatter3d\"},{\"legendgroup\":\"Points\",\"legendgrouptitle\":{\"text\":\"Points\"},\"marker\":{\"color\":\"black\",\"opacity\":0.8,\"size\":3},\"mode\":\"markers\",\"name\":\"60\\u00b0\",\"showlegend\":true,\"x\":[-0.3660254037844384],\"y\":[1.3660254037844388],\"z\":[1.0],\"type\":\"scatter3d\"},{\"legendgroup\":\"Points\",\"legendgrouptitle\":{\"text\":\"Points\"},\"marker\":{\"color\":\"black\",\"opacity\":0.8,\"size\":3},\"mode\":\"markers\",\"name\":\"120\\u00b0\",\"showlegend\":true,\"x\":[-1.3660254037844386],\"y\":[0.36602540378443904],\"z\":[1.0],\"type\":\"scatter3d\"},{\"legendgroup\":\"Points\",\"legendgrouptitle\":{\"text\":\"Points\"},\"marker\":{\"color\":\"black\",\"opacity\":0.8,\"size\":3},\"mode\":\"markers\",\"name\":\"180\\u00b0\",\"showlegend\":true,\"x\":[-1.0000000000000002],\"y\":[-0.9999999999999999],\"z\":[1.0],\"type\":\"scatter3d\"},{\"legendgroup\":\"Points\",\"legendgrouptitle\":{\"text\":\"Points\"},\"marker\":{\"color\":\"black\",\"opacity\":0.8,\"size\":3},\"mode\":\"markers\",\"name\":\"240\\u00b0\",\"showlegend\":true,\"x\":[0.36602540378443804],\"y\":[-1.3660254037844388],\"z\":[0.9999999999999999],\"type\":\"scatter3d\"},{\"legendgroup\":\"Points\",\"legendgrouptitle\":{\"text\":\"Points\"},\"marker\":{\"color\":\"black\",\"opacity\":0.8,\"size\":3},\"mode\":\"markers\",\"name\":\"300\\u00b0\",\"showlegend\":true,\"x\":[1.3660254037844388],\"y\":[-0.3660254037844384],\"z\":[1.0],\"type\":\"scatter3d\"}],                        {\"height\":700,\"title\":{\"text\":\"Rotation of N points around an Axis\"},\"width\":700,\"template\":{\"data\":{\"histogram2dcontour\":[{\"type\":\"histogram2dcontour\",\"colorbar\":{\"outlinewidth\":0,\"ticks\":\"\"},\"colorscale\":[[0.0,\"#0d0887\"],[0.1111111111111111,\"#46039f\"],[0.2222222222222222,\"#7201a8\"],[0.3333333333333333,\"#9c179e\"],[0.4444444444444444,\"#bd3786\"],[0.5555555555555556,\"#d8576b\"],[0.6666666666666666,\"#ed7953\"],[0.7777777777777778,\"#fb9f3a\"],[0.8888888888888888,\"#fdca26\"],[1.0,\"#f0f921\"]]}],\"choropleth\":[{\"type\":\"choropleth\",\"colorbar\":{\"outlinewidth\":0,\"ticks\":\"\"}}],\"histogram2d\":[{\"type\":\"histogram2d\",\"colorbar\":{\"outlinewidth\":0,\"ticks\":\"\"},\"colorscale\":[[0.0,\"#0d0887\"],[0.1111111111111111,\"#46039f\"],[0.2222222222222222,\"#7201a8\"],[0.3333333333333333,\"#9c179e\"],[0.4444444444444444,\"#bd3786\"],[0.5555555555555556,\"#d8576b\"],[0.6666666666666666,\"#ed7953\"],[0.7777777777777778,\"#fb9f3a\"],[0.8888888888888888,\"#fdca26\"],[1.0,\"#f0f921\"]]}],\"heatmap\":[{\"type\":\"heatmap\",\"colorbar\":{\"outlinewidth\":0,\"ticks\":\"\"},\"colorscale\":[[0.0,\"#0d0887\"],[0.1111111111111111,\"#46039f\"],[0.2222222222222222,\"#7201a8\"],[0.3333333333333333,\"#9c179e\"],[0.4444444444444444,\"#bd3786\"],[0.5555555555555556,\"#d8576b\"],[0.6666666666666666,\"#ed7953\"],[0.7777777777777778,\"#fb9f3a\"],[0.8888888888888888,\"#fdca26\"],[1.0,\"#f0f921\"]]}],\"heatmapgl\":[{\"type\":\"heatmapgl\",\"colorbar\":{\"outlinewidth\":0,\"ticks\":\"\"},\"colorscale\":[[0.0,\"#0d0887\"],[0.1111111111111111,\"#46039f\"],[0.2222222222222222,\"#7201a8\"],[0.3333333333333333,\"#9c179e\"],[0.4444444444444444,\"#bd3786\"],[0.5555555555555556,\"#d8576b\"],[0.6666666666666666,\"#ed7953\"],[0.7777777777777778,\"#fb9f3a\"],[0.8888888888888888,\"#fdca26\"],[1.0,\"#f0f921\"]]}],\"contourcarpet\":[{\"type\":\"contourcarpet\",\"colorbar\":{\"outlinewidth\":0,\"ticks\":\"\"}}],\"contour\":[{\"type\":\"contour\",\"colorbar\":{\"outlinewidth\":0,\"ticks\":\"\"},\"colorscale\":[[0.0,\"#0d0887\"],[0.1111111111111111,\"#46039f\"],[0.2222222222222222,\"#7201a8\"],[0.3333333333333333,\"#9c179e\"],[0.4444444444444444,\"#bd3786\"],[0.5555555555555556,\"#d8576b\"],[0.6666666666666666,\"#ed7953\"],[0.7777777777777778,\"#fb9f3a\"],[0.8888888888888888,\"#fdca26\"],[1.0,\"#f0f921\"]]}],\"surface\":[{\"type\":\"surface\",\"colorbar\":{\"outlinewidth\":0,\"ticks\":\"\"},\"colorscale\":[[0.0,\"#0d0887\"],[0.1111111111111111,\"#46039f\"],[0.2222222222222222,\"#7201a8\"],[0.3333333333333333,\"#9c179e\"],[0.4444444444444444,\"#bd3786\"],[0.5555555555555556,\"#d8576b\"],[0.6666666666666666,\"#ed7953\"],[0.7777777777777778,\"#fb9f3a\"],[0.8888888888888888,\"#fdca26\"],[1.0,\"#f0f921\"]]}],\"mesh3d\":[{\"type\":\"mesh3d\",\"colorbar\":{\"outlinewidth\":0,\"ticks\":\"\"}}],\"scatter\":[{\"fillpattern\":{\"fillmode\":\"overlay\",\"size\":10,\"solidity\":0.2},\"type\":\"scatter\"}],\"parcoords\":[{\"type\":\"parcoords\",\"line\":{\"colorbar\":{\"outlinewidth\":0,\"ticks\":\"\"}}}],\"scatterpolargl\":[{\"type\":\"scatterpolargl\",\"marker\":{\"colorbar\":{\"outlinewidth\":0,\"ticks\":\"\"}}}],\"bar\":[{\"error_x\":{\"color\":\"#2a3f5f\"},\"error_y\":{\"color\":\"#2a3f5f\"},\"marker\":{\"line\":{\"color\":\"#E5ECF6\",\"width\":0.5},\"pattern\":{\"fillmode\":\"overlay\",\"size\":10,\"solidity\":0.2}},\"type\":\"bar\"}],\"scattergeo\":[{\"type\":\"scattergeo\",\"marker\":{\"colorbar\":{\"outlinewidth\":0,\"ticks\":\"\"}}}],\"scatterpolar\":[{\"type\":\"scatterpolar\",\"marker\":{\"colorbar\":{\"outlinewidth\":0,\"ticks\":\"\"}}}],\"histogram\":[{\"marker\":{\"pattern\":{\"fillmode\":\"overlay\",\"size\":10,\"solidity\":0.2}},\"type\":\"histogram\"}],\"scattergl\":[{\"type\":\"scattergl\",\"marker\":{\"colorbar\":{\"outlinewidth\":0,\"ticks\":\"\"}}}],\"scatter3d\":[{\"type\":\"scatter3d\",\"line\":{\"colorbar\":{\"outlinewidth\":0,\"ticks\":\"\"}},\"marker\":{\"colorbar\":{\"outlinewidth\":0,\"ticks\":\"\"}}}],\"scattermapbox\":[{\"type\":\"scattermapbox\",\"marker\":{\"colorbar\":{\"outlinewidth\":0,\"ticks\":\"\"}}}],\"scatterternary\":[{\"type\":\"scatterternary\",\"marker\":{\"colorbar\":{\"outlinewidth\":0,\"ticks\":\"\"}}}],\"scattercarpet\":[{\"type\":\"scattercarpet\",\"marker\":{\"colorbar\":{\"outlinewidth\":0,\"ticks\":\"\"}}}],\"carpet\":[{\"aaxis\":{\"endlinecolor\":\"#2a3f5f\",\"gridcolor\":\"white\",\"linecolor\":\"white\",\"minorgridcolor\":\"white\",\"startlinecolor\":\"#2a3f5f\"},\"baxis\":{\"endlinecolor\":\"#2a3f5f\",\"gridcolor\":\"white\",\"linecolor\":\"white\",\"minorgridcolor\":\"white\",\"startlinecolor\":\"#2a3f5f\"},\"type\":\"carpet\"}],\"table\":[{\"cells\":{\"fill\":{\"color\":\"#EBF0F8\"},\"line\":{\"color\":\"white\"}},\"header\":{\"fill\":{\"color\":\"#C8D4E3\"},\"line\":{\"color\":\"white\"}},\"type\":\"table\"}],\"barpolar\":[{\"marker\":{\"line\":{\"color\":\"#E5ECF6\",\"width\":0.5},\"pattern\":{\"fillmode\":\"overlay\",\"size\":10,\"solidity\":0.2}},\"type\":\"barpolar\"}],\"pie\":[{\"automargin\":true,\"type\":\"pie\"}]},\"layout\":{\"autotypenumbers\":\"strict\",\"colorway\":[\"#636efa\",\"#EF553B\",\"#00cc96\",\"#ab63fa\",\"#FFA15A\",\"#19d3f3\",\"#FF6692\",\"#B6E880\",\"#FF97FF\",\"#FECB52\"],\"font\":{\"color\":\"#2a3f5f\"},\"hovermode\":\"closest\",\"hoverlabel\":{\"align\":\"left\"},\"paper_bgcolor\":\"white\",\"plot_bgcolor\":\"#E5ECF6\",\"polar\":{\"bgcolor\":\"#E5ECF6\",\"angularaxis\":{\"gridcolor\":\"white\",\"linecolor\":\"white\",\"ticks\":\"\"},\"radialaxis\":{\"gridcolor\":\"white\",\"linecolor\":\"white\",\"ticks\":\"\"}},\"ternary\":{\"bgcolor\":\"#E5ECF6\",\"aaxis\":{\"gridcolor\":\"white\",\"linecolor\":\"white\",\"ticks\":\"\"},\"baxis\":{\"gridcolor\":\"white\",\"linecolor\":\"white\",\"ticks\":\"\"},\"caxis\":{\"gridcolor\":\"white\",\"linecolor\":\"white\",\"ticks\":\"\"}},\"coloraxis\":{\"colorbar\":{\"outlinewidth\":0,\"ticks\":\"\"}},\"colorscale\":{\"sequential\":[[0.0,\"#0d0887\"],[0.1111111111111111,\"#46039f\"],[0.2222222222222222,\"#7201a8\"],[0.3333333333333333,\"#9c179e\"],[0.4444444444444444,\"#bd3786\"],[0.5555555555555556,\"#d8576b\"],[0.6666666666666666,\"#ed7953\"],[0.7777777777777778,\"#fb9f3a\"],[0.8888888888888888,\"#fdca26\"],[1.0,\"#f0f921\"]],\"sequentialminus\":[[0.0,\"#0d0887\"],[0.1111111111111111,\"#46039f\"],[0.2222222222222222,\"#7201a8\"],[0.3333333333333333,\"#9c179e\"],[0.4444444444444444,\"#bd3786\"],[0.5555555555555556,\"#d8576b\"],[0.6666666666666666,\"#ed7953\"],[0.7777777777777778,\"#fb9f3a\"],[0.8888888888888888,\"#fdca26\"],[1.0,\"#f0f921\"]],\"diverging\":[[0,\"#8e0152\"],[0.1,\"#c51b7d\"],[0.2,\"#de77ae\"],[0.3,\"#f1b6da\"],[0.4,\"#fde0ef\"],[0.5,\"#f7f7f7\"],[0.6,\"#e6f5d0\"],[0.7,\"#b8e186\"],[0.8,\"#7fbc41\"],[0.9,\"#4d9221\"],[1,\"#276419\"]]},\"xaxis\":{\"gridcolor\":\"white\",\"linecolor\":\"white\",\"ticks\":\"\",\"title\":{\"standoff\":15},\"zerolinecolor\":\"white\",\"automargin\":true,\"zerolinewidth\":2},\"yaxis\":{\"gridcolor\":\"white\",\"linecolor\":\"white\",\"ticks\":\"\",\"title\":{\"standoff\":15},\"zerolinecolor\":\"white\",\"automargin\":true,\"zerolinewidth\":2},\"scene\":{\"xaxis\":{\"backgroundcolor\":\"#E5ECF6\",\"gridcolor\":\"white\",\"linecolor\":\"white\",\"showbackground\":true,\"ticks\":\"\",\"zerolinecolor\":\"white\",\"gridwidth\":2},\"yaxis\":{\"backgroundcolor\":\"#E5ECF6\",\"gridcolor\":\"white\",\"linecolor\":\"white\",\"showbackground\":true,\"ticks\":\"\",\"zerolinecolor\":\"white\",\"gridwidth\":2},\"zaxis\":{\"backgroundcolor\":\"#E5ECF6\",\"gridcolor\":\"white\",\"linecolor\":\"white\",\"showbackground\":true,\"ticks\":\"\",\"zerolinecolor\":\"white\",\"gridwidth\":2}},\"shapedefaults\":{\"line\":{\"color\":\"#2a3f5f\"}},\"annotationdefaults\":{\"arrowcolor\":\"#2a3f5f\",\"arrowhead\":0,\"arrowwidth\":1},\"geo\":{\"bgcolor\":\"white\",\"landcolor\":\"#E5ECF6\",\"subunitcolor\":\"white\",\"showland\":true,\"showlakes\":true,\"lakecolor\":\"white\"},\"title\":{\"x\":0.05},\"mapbox\":{\"style\":\"light\"}}},\"scene\":{\"xaxis\":{\"title\":{\"text\":\"\"},\"range\":[-2,2],\"showbackground\":false,\"showticklabels\":false,\"showaxeslabels\":false,\"showgrid\":false,\"showspikes\":false},\"yaxis\":{\"title\":{\"text\":\"\"},\"range\":[-2,2],\"showbackground\":false,\"showticklabels\":false,\"showaxeslabels\":false,\"showgrid\":false,\"showspikes\":false},\"zaxis\":{\"title\":{\"text\":\"\"},\"range\":[-2,2],\"showbackground\":false,\"showticklabels\":false,\"showaxeslabels\":false,\"showgrid\":false,\"showspikes\":false},\"aspectmode\":\"cube\",\"camera\":{\"projection\":{\"type\":\"orthographic\"}}},\"font\":{\"family\":\"Arial\",\"size\":15,\"color\":\"black\"}},                        {\"responsive\": true}                    ).then(function(){\n",
       "                            \n",
       "var gd = document.getElementById('bd03d696-3fd8-4a2f-bb00-ddcaab7aedb3');\n",
       "var x = new MutationObserver(function (mutations, observer) {{\n",
       "        var display = window.getComputedStyle(gd).display;\n",
       "        if (!display || display === 'none') {{\n",
       "            console.log([gd, 'removed!']);\n",
       "            Plotly.purge(gd);\n",
       "            observer.disconnect();\n",
       "        }}\n",
       "}});\n",
       "\n",
       "// Listen for the removal of the full notebook cells\n",
       "var notebookContainer = gd.closest('#notebook-container');\n",
       "if (notebookContainer) {{\n",
       "    x.observe(notebookContainer, {childList: true});\n",
       "}}\n",
       "\n",
       "// Listen for the clearing of the current output cell\n",
       "var outputEl = gd.closest('.output');\n",
       "if (outputEl) {{\n",
       "    x.observe(outputEl, {childList: true});\n",
       "}}\n",
       "\n",
       "                        })                };                });            </script>        </div>"
      ]
     },
     "metadata": {},
     "output_type": "display_data"
    }
   ],
   "source": [
    "# Create graph viewer\n",
    "viewer = Viewer3D(title=\"Rotation of N points around an Axis\", size=2)\n",
    "\n",
    "# Plot main frame\n",
    "viewer.add_frame(np.eye(4), \"W\")\n",
    "\n",
    "# Point (1, 1, 1)\n",
    "P = np.ones(3).reshape(-1, 1)\n",
    "\n",
    "N = 6  # Number of points to visualize\n",
    "axis = \"z\"  # Axis of rotation\n",
    "\n",
    "# Plot P rotated around the chosen axis N times\n",
    "for theta in range(N):\n",
    "    viewer.add_points(\n",
    "        Rotation.from_euler(axis, 360 * theta // N, degrees=True).as_matrix() @ P,\n",
    "        f\"{360*theta//N}°\",\n",
    "        \"black\",\n",
    "    )\n",
    "\n",
    "viewer.figure.show(renderer=\"notebook_connected\")"
   ]
  },
  {
   "cell_type": "code",
   "execution_count": null,
   "metadata": {},
   "outputs": [
    {
     "data": {
      "text/html": [
       "        <script type=\"text/javascript\">\n",
       "        window.PlotlyConfig = {MathJaxConfig: 'local'};\n",
       "        if (window.MathJax && window.MathJax.Hub && window.MathJax.Hub.Config) {window.MathJax.Hub.Config({SVG: {font: \"STIX-Web\"}});}\n",
       "        if (typeof require !== 'undefined') {\n",
       "        require.undef(\"plotly\");\n",
       "        requirejs.config({\n",
       "            paths: {\n",
       "                'plotly': ['https://cdn.plot.ly/plotly-2.27.0.min']\n",
       "            }\n",
       "        });\n",
       "        require(['plotly'], function(Plotly) {\n",
       "            window._Plotly = Plotly;\n",
       "        });\n",
       "        }\n",
       "        </script>\n",
       "        "
      ]
     },
     "metadata": {},
     "output_type": "display_data"
    },
    {
     "data": {
      "text/html": [
       "<div>                            <div id=\"544ced72-29e8-48df-8175-19371163b2f1\" class=\"plotly-graph-div\" style=\"height:700px; width:700px;\"></div>            <script type=\"text/javascript\">                require([\"plotly\"], function(Plotly) {                    window.PLOTLYENV=window.PLOTLYENV || {};                                    if (document.getElementById(\"544ced72-29e8-48df-8175-19371163b2f1\")) {                    Plotly.newPlot(                        \"544ced72-29e8-48df-8175-19371163b2f1\",                        [{\"legendgroup\":\"Frames\",\"legendgrouptitle\":{\"text\":\"Frames\"},\"marker\":{\"opacity\":0.8,\"size\":4},\"mode\":\"markers\",\"name\":\"W\",\"showlegend\":true,\"x\":[0.0],\"y\":[0.0],\"z\":[0.0],\"type\":\"scatter3d\"},{\"hoverinfo\":\"skip\",\"line\":{\"color\":\"red\",\"width\":2},\"mode\":\"lines\",\"name\":\"xW\",\"showlegend\":false,\"x\":[0.0,1.0],\"y\":[0.0,0.0],\"z\":[0.0,0.0],\"type\":\"scatter3d\"},{\"hoverinfo\":\"skip\",\"line\":{\"color\":\"green\",\"width\":2},\"mode\":\"lines\",\"name\":\"yW\",\"showlegend\":false,\"x\":[0.0,0.0],\"y\":[0.0,1.0],\"z\":[0.0,0.0],\"type\":\"scatter3d\"},{\"hoverinfo\":\"skip\",\"line\":{\"color\":\"blue\",\"width\":2},\"mode\":\"lines\",\"name\":\"zW\",\"showlegend\":false,\"x\":[0.0,0.0],\"y\":[0.0,0.0],\"z\":[0.0,1.0],\"type\":\"scatter3d\"},{\"alphahull\":0,\"color\":\"lightsteelblue\",\"flatshading\":true,\"legendgroup\":\"Objects\",\"legendgrouptitle\":{\"text\":\"Objects\"},\"name\":\"Box\",\"showlegend\":false,\"x\":[-2.9027367931945185,-2.3729454586383194,-2.3701859282854554,-1.8403945937292565,-2.2426529211647814,-1.7128615866085823,-1.7101020562557183,-1.1803107216995192],\"y\":[0.8399443821324191,1.653088038319542,0.7422280559642435,1.5553717121513666,0.26614222633058504,1.0792858825177083,0.16842590016240944,0.9815695563495326],\"z\":[2.8599862640390636,3.1010641274604054,2.019247841053172,2.2603257044745138,3.3447958842854004,3.585873747706742,2.5040574612995092,2.7451353247208505],\"type\":\"mesh3d\"},{\"legendgroup\":\"Frames\",\"legendgrouptitle\":{\"text\":\"Frames\"},\"marker\":{\"opacity\":0.8,\"size\":4},\"mode\":\"markers\",\"name\":\"A\",\"showlegend\":true,\"x\":[1.7082132253379054],\"y\":[-2.83962498931702],\"z\":[-2.1347243340889306],\"type\":\"scatter3d\"},{\"hoverinfo\":\"skip\",\"line\":{\"color\":\"red\",\"width\":2},\"mode\":\"lines\",\"name\":\"xA\",\"showlegend\":false,\"x\":[1.7082132253379054,2.010074761711687],\"y\":[-2.83962498931702,-3.7162945468056927],\"z\":[-2.1347243340889306,-1.7601177406730182],\"type\":\"scatter3d\"},{\"hoverinfo\":\"skip\",\"line\":{\"color\":\"green\",\"width\":2},\"mode\":\"lines\",\"name\":\"yA\",\"showlegend\":false,\"x\":[1.7082132253379054,2.3626427940854655],\"y\":[-2.83962498931702,-2.9348126204029517],\"z\":[-2.1347243340889306,-2.8848318293435313],\"type\":\"scatter3d\"},{\"hoverinfo\":\"skip\",\"line\":{\"color\":\"blue\",\"width\":2},\"mode\":\"lines\",\"name\":\"zA\",\"showlegend\":false,\"x\":[1.7082132253379054,2.4014675454881242],\"y\":[-2.83962498931702,-2.368042756974809],\"z\":[-2.1347243340889306,-1.589739338210884],\"type\":\"scatter3d\"},{\"legendgroup\":\"Frames\",\"legendgrouptitle\":{\"text\":\"Frames\"},\"marker\":{\"opacity\":0.8,\"size\":4},\"mode\":\"markers\",\"name\":\"B\",\"showlegend\":true,\"x\":[2.5707996440521654],\"y\":[0.21737965394342718],\"z\":[2.8712595634088682],\"type\":\"scatter3d\"},{\"hoverinfo\":\"skip\",\"line\":{\"color\":\"red\",\"width\":2},\"mode\":\"lines\",\"name\":\"xB\",\"showlegend\":false,\"x\":[2.5707996440521654,2.243724154354669],\"y\":[0.21737965394342718,1.1160121763443605],\"z\":[2.8712595634088682,3.163631268131605],\"type\":\"scatter3d\"},{\"hoverinfo\":\"skip\",\"line\":{\"color\":\"green\",\"width\":2},\"mode\":\"lines\",\"name\":\"yB\",\"showlegend\":false,\"x\":[2.5707996440521654,3.030014537407156],\"y\":[0.21737965394342718,0.09811849653095446],\"z\":[2.8712595634088682,3.751542732652494],\"type\":\"scatter3d\"},{\"hoverinfo\":\"skip\",\"line\":{\"color\":\"blue\",\"width\":2},\"mode\":\"lines\",\"name\":\"zB\",\"showlegend\":false,\"x\":[2.5707996440521654,3.3967193167565437],\"y\":[0.21737965394342718,0.6395601438005186],\"z\":[2.8712595634088682,2.497601526931772],\"type\":\"scatter3d\"},{\"legendgroup\":\"Frames\",\"legendgrouptitle\":{\"text\":\"Frames\"},\"marker\":{\"opacity\":0.8,\"size\":4},\"mode\":\"markers\",\"name\":\"C\",\"showlegend\":true,\"x\":[-1.329321549717061],\"y\":[0.94586680840494],\"z\":[1.3452280391461873],\"type\":\"scatter3d\"},{\"hoverinfo\":\"skip\",\"line\":{\"color\":\"red\",\"width\":2},\"mode\":\"lines\",\"name\":\"xC\",\"showlegend\":false,\"x\":[-1.329321549717061,-0.5888193905480197],\"y\":[0.94586680840494,1.3395987906008089],\"z\":[1.3452280391461873,0.80058900413116],\"type\":\"scatter3d\"},{\"hoverinfo\":\"skip\",\"line\":{\"color\":\"green\",\"width\":2},\"mode\":\"lines\",\"name\":\"yC\",\"showlegend\":false,\"x\":[-1.329321549717061,-1.5667465837224555],\"y\":[0.94586680840494,0.3409808923899468],\"z\":[1.3452280391461873,0.5851343726587996],\"type\":\"scatter3d\"},{\"hoverinfo\":\"skip\",\"line\":{\"color\":\"blue\",\"width\":2},\"mode\":\"lines\",\"name\":\"zC\",\"showlegend\":false,\"x\":[-1.329321549717061,-1.9580392172702525],\"y\":[0.94586680840494,1.6380287510186717],\"z\":[1.3452280391461873,0.9907905415480072],\"type\":\"scatter3d\"}],                        {\"height\":700,\"title\":{\"text\":\"Random Homogeneous Transformation\"},\"width\":700,\"template\":{\"data\":{\"histogram2dcontour\":[{\"type\":\"histogram2dcontour\",\"colorbar\":{\"outlinewidth\":0,\"ticks\":\"\"},\"colorscale\":[[0.0,\"#0d0887\"],[0.1111111111111111,\"#46039f\"],[0.2222222222222222,\"#7201a8\"],[0.3333333333333333,\"#9c179e\"],[0.4444444444444444,\"#bd3786\"],[0.5555555555555556,\"#d8576b\"],[0.6666666666666666,\"#ed7953\"],[0.7777777777777778,\"#fb9f3a\"],[0.8888888888888888,\"#fdca26\"],[1.0,\"#f0f921\"]]}],\"choropleth\":[{\"type\":\"choropleth\",\"colorbar\":{\"outlinewidth\":0,\"ticks\":\"\"}}],\"histogram2d\":[{\"type\":\"histogram2d\",\"colorbar\":{\"outlinewidth\":0,\"ticks\":\"\"},\"colorscale\":[[0.0,\"#0d0887\"],[0.1111111111111111,\"#46039f\"],[0.2222222222222222,\"#7201a8\"],[0.3333333333333333,\"#9c179e\"],[0.4444444444444444,\"#bd3786\"],[0.5555555555555556,\"#d8576b\"],[0.6666666666666666,\"#ed7953\"],[0.7777777777777778,\"#fb9f3a\"],[0.8888888888888888,\"#fdca26\"],[1.0,\"#f0f921\"]]}],\"heatmap\":[{\"type\":\"heatmap\",\"colorbar\":{\"outlinewidth\":0,\"ticks\":\"\"},\"colorscale\":[[0.0,\"#0d0887\"],[0.1111111111111111,\"#46039f\"],[0.2222222222222222,\"#7201a8\"],[0.3333333333333333,\"#9c179e\"],[0.4444444444444444,\"#bd3786\"],[0.5555555555555556,\"#d8576b\"],[0.6666666666666666,\"#ed7953\"],[0.7777777777777778,\"#fb9f3a\"],[0.8888888888888888,\"#fdca26\"],[1.0,\"#f0f921\"]]}],\"heatmapgl\":[{\"type\":\"heatmapgl\",\"colorbar\":{\"outlinewidth\":0,\"ticks\":\"\"},\"colorscale\":[[0.0,\"#0d0887\"],[0.1111111111111111,\"#46039f\"],[0.2222222222222222,\"#7201a8\"],[0.3333333333333333,\"#9c179e\"],[0.4444444444444444,\"#bd3786\"],[0.5555555555555556,\"#d8576b\"],[0.6666666666666666,\"#ed7953\"],[0.7777777777777778,\"#fb9f3a\"],[0.8888888888888888,\"#fdca26\"],[1.0,\"#f0f921\"]]}],\"contourcarpet\":[{\"type\":\"contourcarpet\",\"colorbar\":{\"outlinewidth\":0,\"ticks\":\"\"}}],\"contour\":[{\"type\":\"contour\",\"colorbar\":{\"outlinewidth\":0,\"ticks\":\"\"},\"colorscale\":[[0.0,\"#0d0887\"],[0.1111111111111111,\"#46039f\"],[0.2222222222222222,\"#7201a8\"],[0.3333333333333333,\"#9c179e\"],[0.4444444444444444,\"#bd3786\"],[0.5555555555555556,\"#d8576b\"],[0.6666666666666666,\"#ed7953\"],[0.7777777777777778,\"#fb9f3a\"],[0.8888888888888888,\"#fdca26\"],[1.0,\"#f0f921\"]]}],\"surface\":[{\"type\":\"surface\",\"colorbar\":{\"outlinewidth\":0,\"ticks\":\"\"},\"colorscale\":[[0.0,\"#0d0887\"],[0.1111111111111111,\"#46039f\"],[0.2222222222222222,\"#7201a8\"],[0.3333333333333333,\"#9c179e\"],[0.4444444444444444,\"#bd3786\"],[0.5555555555555556,\"#d8576b\"],[0.6666666666666666,\"#ed7953\"],[0.7777777777777778,\"#fb9f3a\"],[0.8888888888888888,\"#fdca26\"],[1.0,\"#f0f921\"]]}],\"mesh3d\":[{\"type\":\"mesh3d\",\"colorbar\":{\"outlinewidth\":0,\"ticks\":\"\"}}],\"scatter\":[{\"fillpattern\":{\"fillmode\":\"overlay\",\"size\":10,\"solidity\":0.2},\"type\":\"scatter\"}],\"parcoords\":[{\"type\":\"parcoords\",\"line\":{\"colorbar\":{\"outlinewidth\":0,\"ticks\":\"\"}}}],\"scatterpolargl\":[{\"type\":\"scatterpolargl\",\"marker\":{\"colorbar\":{\"outlinewidth\":0,\"ticks\":\"\"}}}],\"bar\":[{\"error_x\":{\"color\":\"#2a3f5f\"},\"error_y\":{\"color\":\"#2a3f5f\"},\"marker\":{\"line\":{\"color\":\"#E5ECF6\",\"width\":0.5},\"pattern\":{\"fillmode\":\"overlay\",\"size\":10,\"solidity\":0.2}},\"type\":\"bar\"}],\"scattergeo\":[{\"type\":\"scattergeo\",\"marker\":{\"colorbar\":{\"outlinewidth\":0,\"ticks\":\"\"}}}],\"scatterpolar\":[{\"type\":\"scatterpolar\",\"marker\":{\"colorbar\":{\"outlinewidth\":0,\"ticks\":\"\"}}}],\"histogram\":[{\"marker\":{\"pattern\":{\"fillmode\":\"overlay\",\"size\":10,\"solidity\":0.2}},\"type\":\"histogram\"}],\"scattergl\":[{\"type\":\"scattergl\",\"marker\":{\"colorbar\":{\"outlinewidth\":0,\"ticks\":\"\"}}}],\"scatter3d\":[{\"type\":\"scatter3d\",\"line\":{\"colorbar\":{\"outlinewidth\":0,\"ticks\":\"\"}},\"marker\":{\"colorbar\":{\"outlinewidth\":0,\"ticks\":\"\"}}}],\"scattermapbox\":[{\"type\":\"scattermapbox\",\"marker\":{\"colorbar\":{\"outlinewidth\":0,\"ticks\":\"\"}}}],\"scatterternary\":[{\"type\":\"scatterternary\",\"marker\":{\"colorbar\":{\"outlinewidth\":0,\"ticks\":\"\"}}}],\"scattercarpet\":[{\"type\":\"scattercarpet\",\"marker\":{\"colorbar\":{\"outlinewidth\":0,\"ticks\":\"\"}}}],\"carpet\":[{\"aaxis\":{\"endlinecolor\":\"#2a3f5f\",\"gridcolor\":\"white\",\"linecolor\":\"white\",\"minorgridcolor\":\"white\",\"startlinecolor\":\"#2a3f5f\"},\"baxis\":{\"endlinecolor\":\"#2a3f5f\",\"gridcolor\":\"white\",\"linecolor\":\"white\",\"minorgridcolor\":\"white\",\"startlinecolor\":\"#2a3f5f\"},\"type\":\"carpet\"}],\"table\":[{\"cells\":{\"fill\":{\"color\":\"#EBF0F8\"},\"line\":{\"color\":\"white\"}},\"header\":{\"fill\":{\"color\":\"#C8D4E3\"},\"line\":{\"color\":\"white\"}},\"type\":\"table\"}],\"barpolar\":[{\"marker\":{\"line\":{\"color\":\"#E5ECF6\",\"width\":0.5},\"pattern\":{\"fillmode\":\"overlay\",\"size\":10,\"solidity\":0.2}},\"type\":\"barpolar\"}],\"pie\":[{\"automargin\":true,\"type\":\"pie\"}]},\"layout\":{\"autotypenumbers\":\"strict\",\"colorway\":[\"#636efa\",\"#EF553B\",\"#00cc96\",\"#ab63fa\",\"#FFA15A\",\"#19d3f3\",\"#FF6692\",\"#B6E880\",\"#FF97FF\",\"#FECB52\"],\"font\":{\"color\":\"#2a3f5f\"},\"hovermode\":\"closest\",\"hoverlabel\":{\"align\":\"left\"},\"paper_bgcolor\":\"white\",\"plot_bgcolor\":\"#E5ECF6\",\"polar\":{\"bgcolor\":\"#E5ECF6\",\"angularaxis\":{\"gridcolor\":\"white\",\"linecolor\":\"white\",\"ticks\":\"\"},\"radialaxis\":{\"gridcolor\":\"white\",\"linecolor\":\"white\",\"ticks\":\"\"}},\"ternary\":{\"bgcolor\":\"#E5ECF6\",\"aaxis\":{\"gridcolor\":\"white\",\"linecolor\":\"white\",\"ticks\":\"\"},\"baxis\":{\"gridcolor\":\"white\",\"linecolor\":\"white\",\"ticks\":\"\"},\"caxis\":{\"gridcolor\":\"white\",\"linecolor\":\"white\",\"ticks\":\"\"}},\"coloraxis\":{\"colorbar\":{\"outlinewidth\":0,\"ticks\":\"\"}},\"colorscale\":{\"sequential\":[[0.0,\"#0d0887\"],[0.1111111111111111,\"#46039f\"],[0.2222222222222222,\"#7201a8\"],[0.3333333333333333,\"#9c179e\"],[0.4444444444444444,\"#bd3786\"],[0.5555555555555556,\"#d8576b\"],[0.6666666666666666,\"#ed7953\"],[0.7777777777777778,\"#fb9f3a\"],[0.8888888888888888,\"#fdca26\"],[1.0,\"#f0f921\"]],\"sequentialminus\":[[0.0,\"#0d0887\"],[0.1111111111111111,\"#46039f\"],[0.2222222222222222,\"#7201a8\"],[0.3333333333333333,\"#9c179e\"],[0.4444444444444444,\"#bd3786\"],[0.5555555555555556,\"#d8576b\"],[0.6666666666666666,\"#ed7953\"],[0.7777777777777778,\"#fb9f3a\"],[0.8888888888888888,\"#fdca26\"],[1.0,\"#f0f921\"]],\"diverging\":[[0,\"#8e0152\"],[0.1,\"#c51b7d\"],[0.2,\"#de77ae\"],[0.3,\"#f1b6da\"],[0.4,\"#fde0ef\"],[0.5,\"#f7f7f7\"],[0.6,\"#e6f5d0\"],[0.7,\"#b8e186\"],[0.8,\"#7fbc41\"],[0.9,\"#4d9221\"],[1,\"#276419\"]]},\"xaxis\":{\"gridcolor\":\"white\",\"linecolor\":\"white\",\"ticks\":\"\",\"title\":{\"standoff\":15},\"zerolinecolor\":\"white\",\"automargin\":true,\"zerolinewidth\":2},\"yaxis\":{\"gridcolor\":\"white\",\"linecolor\":\"white\",\"ticks\":\"\",\"title\":{\"standoff\":15},\"zerolinecolor\":\"white\",\"automargin\":true,\"zerolinewidth\":2},\"scene\":{\"xaxis\":{\"backgroundcolor\":\"#E5ECF6\",\"gridcolor\":\"white\",\"linecolor\":\"white\",\"showbackground\":true,\"ticks\":\"\",\"zerolinecolor\":\"white\",\"gridwidth\":2},\"yaxis\":{\"backgroundcolor\":\"#E5ECF6\",\"gridcolor\":\"white\",\"linecolor\":\"white\",\"showbackground\":true,\"ticks\":\"\",\"zerolinecolor\":\"white\",\"gridwidth\":2},\"zaxis\":{\"backgroundcolor\":\"#E5ECF6\",\"gridcolor\":\"white\",\"linecolor\":\"white\",\"showbackground\":true,\"ticks\":\"\",\"zerolinecolor\":\"white\",\"gridwidth\":2}},\"shapedefaults\":{\"line\":{\"color\":\"#2a3f5f\"}},\"annotationdefaults\":{\"arrowcolor\":\"#2a3f5f\",\"arrowhead\":0,\"arrowwidth\":1},\"geo\":{\"bgcolor\":\"white\",\"landcolor\":\"#E5ECF6\",\"subunitcolor\":\"white\",\"showland\":true,\"showlakes\":true,\"lakecolor\":\"white\"},\"title\":{\"x\":0.05},\"mapbox\":{\"style\":\"light\"}}},\"scene\":{\"xaxis\":{\"title\":{\"text\":\"\"},\"range\":[-5,5],\"showbackground\":false,\"showticklabels\":false,\"showaxeslabels\":false,\"showgrid\":false,\"showspikes\":false},\"yaxis\":{\"title\":{\"text\":\"\"},\"range\":[-5,5],\"showbackground\":false,\"showticklabels\":false,\"showaxeslabels\":false,\"showgrid\":false,\"showspikes\":false},\"zaxis\":{\"title\":{\"text\":\"\"},\"range\":[-5,5],\"showbackground\":false,\"showticklabels\":false,\"showaxeslabels\":false,\"showgrid\":false,\"showspikes\":false},\"aspectmode\":\"cube\",\"camera\":{\"projection\":{\"type\":\"orthographic\"}}},\"font\":{\"family\":\"Arial\",\"size\":15,\"color\":\"black\"}},                        {\"responsive\": true}                    ).then(function(){\n",
       "                            \n",
       "var gd = document.getElementById('544ced72-29e8-48df-8175-19371163b2f1');\n",
       "var x = new MutationObserver(function (mutations, observer) {{\n",
       "        var display = window.getComputedStyle(gd).display;\n",
       "        if (!display || display === 'none') {{\n",
       "            console.log([gd, 'removed!']);\n",
       "            Plotly.purge(gd);\n",
       "            observer.disconnect();\n",
       "        }}\n",
       "}});\n",
       "\n",
       "// Listen for the removal of the full notebook cells\n",
       "var notebookContainer = gd.closest('#notebook-container');\n",
       "if (notebookContainer) {{\n",
       "    x.observe(notebookContainer, {childList: true});\n",
       "}}\n",
       "\n",
       "// Listen for the clearing of the current output cell\n",
       "var outputEl = gd.closest('.output');\n",
       "if (outputEl) {{\n",
       "    x.observe(outputEl, {childList: true});\n",
       "}}\n",
       "\n",
       "                        })                };                });            </script>        </div>"
      ]
     },
     "metadata": {},
     "output_type": "display_data"
    }
   ],
   "source": [
    "# Create graph viewer\n",
    "viewer = Viewer3D(title=\"Random Homogeneous Transformation\", size=5)\n",
    "\n",
    "# Plot main frame\n",
    "viewer.add_frame(np.eye(4), \"W\")\n",
    "\n",
    "box = cube()  # Creates a cube\n",
    "box = to_homo(box)\n",
    "\n",
    "# Generate random homogeneous transformation\n",
    "randH = join_homo(random_rotation(), random_translation(3))\n",
    "\n",
    "# Rotate and translate in a homogeneous transformation\n",
    "box = randH @ box\n",
    "\n",
    "box = box[:-1]  # Extract regular coordinates\n",
    "\n",
    "# Plot box\n",
    "viewer.add_solid(box, name=\"Box\", color=\"lightsteelblue\")\n",
    "\n",
    "# Generate and plot 3 random frames\n",
    "for name in [\"A\", \"B\", \"C\"]:\n",
    "    viewer.add_frame(join_homo(random_rotation(), random_translation(3)), name)\n",
    "\n",
    "viewer.figure.show(renderer=\"notebook_connected\")"
   ]
  }
 ],
 "metadata": {
  "kernelspec": {
   "display_name": "Python 3",
   "language": "python",
   "name": "python3"
  },
  "language_info": {
   "codemirror_mode": {
    "name": "ipython",
    "version": 3
   },
   "file_extension": ".py",
   "mimetype": "text/x-python",
   "name": "python",
   "nbconvert_exporter": "python",
   "pygments_lexer": "ipython3",
   "version": "3.12.0"
  },
  "orig_nbformat": 4
 },
 "nbformat": 4,
 "nbformat_minor": 2
}
