{
 "cells": [
  {
   "cell_type": "code",
   "execution_count": 75,
   "metadata": {},
   "outputs": [],
   "source": [
    "import numpy as np\n",
    "\n",
    "import sys\n",
    "sys.path.append('..') # Go back to base directory\n",
    "\n",
    "from modules.differential_drive import DifferentialDrive\n",
    "from modules.speech_recognizer import SpeechRecognizer\n",
    "from modules.llm import LLM\n",
    "\n",
    "from modules.graph import *\n",
    "from modules.viewer3d import *"
   ]
  },
  {
   "cell_type": "code",
   "execution_count": 76,
   "metadata": {},
   "outputs": [],
   "source": [
    "# Robot class\n",
    "class Robot:\n",
    "    def __init__(\n",
    "        self,\n",
    "        SR=None,\n",
    "        LLM=None,\n",
    "        DDR=None\n",
    "    ):\n",
    "        self.SR=SR\n",
    "        self.LLM=LLM\n",
    "        self.DDR=DDR"
   ]
  },
  {
   "cell_type": "code",
   "execution_count": 77,
   "metadata": {},
   "outputs": [
    {
     "name": "stdout",
     "output_type": "stream",
     "text": [
      "Client successfuly created!\n"
     ]
    }
   ],
   "source": [
    "SR = SpeechRecognizer(\n",
    "    language=\"pt-BR\",\n",
    "    verbose=True\n",
    ") \n",
    "\n",
    "system_role = \"\"\"\n",
    "You are an AI that generates commands for a differential drive robot based on the desired trajectory described in natural language. The commands you will generate follow this format:\n",
    "\n",
    "Drive command: D d t, where d is the distance in meters and t is the time in seconds. Negative values of d will make the robot move backwards.\n",
    "Turn command: T a t, where a is the angle in degrees and t is the time in seconds. Negative values of a will make the robot turn clockwise.\n",
    "Circle command: C r a t, where r is the radius of the circle in meters (positive for left, negative for right), a is the angle in degrees of the arc, and t is the time in seconds.\n",
    "    \n",
    "Your response should include only the commands, with no additional explanations or text. Try to interpret the received message as best as you can. \n",
    "\n",
    "For example, if given the instruction 'make a square trajectory with a length of 1 meter', your output should be:\n",
    "\n",
    "D 1.0 5.0\n",
    "T 90.0 2.0\n",
    "D 1.0 5.0\n",
    "T 90.0 2.0\n",
    "D 1.0 5.0\n",
    "T 90.0 2.0\n",
    "D 1.0 5.0\n",
    "\"\"\"\n",
    "\n",
    "LLM = LLM(\n",
    "    system_role=system_role,\n",
    "    verbose=True\n",
    ")\n",
    "\n",
    "DDR = DifferentialDrive(\n",
    "    # Robot geometry\n",
    "    r=0.04, # In m\n",
    "    s=0.24, # In m\n",
    "    h=0.04, # in m\n",
    "\n",
    "    # Time parameters\n",
    "    dt=50e-3\n",
    ")\n",
    "\n",
    "MyRobot = Robot(\n",
    "    SR,\n",
    "    LLM,\n",
    "    DDR\n",
    ")"
   ]
  },
  {
   "cell_type": "code",
   "execution_count": 78,
   "metadata": {},
   "outputs": [],
   "source": [
    "def commands_to_signals(\n",
    "    DDR, \n",
    "    commands,\n",
    "    verbose=False\n",
    "):\n",
    "    signals, time_vector = [], []\n",
    "\n",
    "    # Parsing through lines\n",
    "    for line in commands.splitlines():\n",
    "        if not line:\n",
    "            continue\n",
    "\n",
    "        tokens = line.split()\n",
    "\n",
    "        type, args = tokens[0], np.array(tokens[1:]).astype(np.float64)\n",
    "\n",
    "        try:\n",
    "            phi_dot_L_signal, phi_dot_R_signal = DDR.command[type](*args)\n",
    "\n",
    "            signals.append(np.vstack((phi_dot_L_signal, phi_dot_R_signal)))\n",
    "\n",
    "        except:\n",
    "            if verbose: print(\"Command not recognized.\")\n",
    "            continue\n",
    "    \n",
    "    if signals:\n",
    "        signals, time_vector = DDR.concatenate_signals(signals)\n",
    "\n",
    "    return signals, time_vector"
   ]
  },
  {
   "cell_type": "code",
   "execution_count": 79,
   "metadata": {},
   "outputs": [
    {
     "name": "stdout",
     "output_type": "stream",
     "text": [
      "Adjusting for ambient noise...\n",
      "Listening for speech...\n",
      "Listened: 'uma trajetória em formato de S'\n",
      "Sending message...\n",
      "Received response.\n",
      "Commands:\n",
      "C 0.5 180.0 2.0\n",
      "C -0.5 180.0 2.0\n",
      "Computing solution...\n",
      "Stopped listening.\n"
     ]
    }
   ],
   "source": [
    "output, poses, positions = [], [], []\n",
    "recognized_speech = \"\"\n",
    "\n",
    "MyRobot.SR.start_listening()\n",
    "\n",
    "while not len(output):\n",
    "    recognized_speech = MyRobot.SR.get_speech()\n",
    "\n",
    "    if recognized_speech:\n",
    "        print(f\"Listened: '{recognized_speech}'\")\n",
    "\n",
    "    else:\n",
    "        continue\n",
    "\n",
    "    commands = MyRobot.LLM.chat_completion(\n",
    "        prompt=recognized_speech,\n",
    "        max_tokens=100\n",
    "    )\n",
    "\n",
    "    print(\"Commands:\")\n",
    "    print(commands)\n",
    "\n",
    "    signals, time_vector = commands_to_signals(\n",
    "        DDR=MyRobot.DDR, \n",
    "        commands=commands, \n",
    "        verbose=True)\n",
    "\n",
    "    if not len(signals):\n",
    "        continue\n",
    "\n",
    "    phi_dot_L_signal, phi_dot_R_signal = signals\n",
    "    \n",
    "    print(\"Computing solution...\")\n",
    "    for phi_dot_L, phi_dot_R in zip(phi_dot_L_signal, phi_dot_R_signal):\n",
    "        MyRobot.DDR.kinematic_model(phi_dot_L, phi_dot_R)\n",
    "        \n",
    "        output.append(MyRobot.DDR.get_output())\n",
    "        positions.append(MyRobot.DDR.get_position())\n",
    "        poses.append(MyRobot.DDR.get_pose())\n",
    "\n",
    "    if not len(output):\n",
    "        continue\n",
    "    \n",
    "    output = np.hstack(output)\n",
    "    trajectory = np.hstack(positions)\n",
    "\n",
    "MyRobot.SR.stop_listening()\n"
   ]
  },
  {
   "cell_type": "code",
   "execution_count": 80,
   "metadata": {},
   "outputs": [
    {
     "data": {
      "application/vnd.plotly.v1+json": {
       "config": {
        "plotlyServerURL": "https://plot.ly"
       },
       "data": [
        {
         "legendgroup": "Frames",
         "legendgrouptitle": {
          "text": "Frames"
         },
         "marker": {
          "opacity": 0.8,
          "size": 4
         },
         "mode": "markers",
         "name": "Inertial Reference",
         "showlegend": true,
         "type": "scatter3d",
         "x": [
          0
         ],
         "y": [
          0
         ],
         "z": [
          0
         ]
        },
        {
         "hoverinfo": "skip",
         "line": {
          "color": "red",
          "width": 2
         },
         "mode": "lines",
         "name": "xInertial Reference",
         "showlegend": false,
         "type": "scatter3d",
         "x": [
          0,
          5
         ],
         "y": [
          0,
          0
         ],
         "z": [
          0,
          0
         ]
        },
        {
         "hoverinfo": "skip",
         "line": {
          "color": "green",
          "width": 2
         },
         "mode": "lines",
         "name": "yInertial Reference",
         "showlegend": false,
         "type": "scatter3d",
         "x": [
          0,
          0
         ],
         "y": [
          0,
          5
         ],
         "z": [
          0,
          0
         ]
        },
        {
         "hoverinfo": "skip",
         "line": {
          "color": "blue",
          "width": 2
         },
         "mode": "lines",
         "name": "zInertial Reference",
         "showlegend": false,
         "type": "scatter3d",
         "x": [
          0,
          0
         ],
         "y": [
          0,
          0
         ],
         "z": [
          0,
          5
         ]
        },
        {
         "legendgroup": "Points",
         "legendgrouptitle": {
          "text": "Points"
         },
         "marker": {
          "cmax": 4.5,
          "cmin": 0,
          "color": [
           0,
           0.05063291139240506,
           0.10126582278481013,
           0.1518987341772152,
           0.20253164556962025,
           0.25316455696202533,
           0.3037974683544304,
           0.35443037974683544,
           0.4050632911392405,
           0.45569620253164556,
           0.5063291139240507,
           0.5569620253164557,
           0.6075949367088608,
           0.6582278481012658,
           0.7088607594936709,
           0.7594936708860759,
           0.810126582278481,
           0.8607594936708861,
           0.9113924050632911,
           0.9620253164556962,
           1.0126582278481013,
           1.0632911392405062,
           1.1139240506329113,
           1.1645569620253164,
           1.2151898734177216,
           1.2658227848101267,
           1.3164556962025316,
           1.3670886075949367,
           1.4177215189873418,
           1.4683544303797469,
           1.5189873417721518,
           1.5696202531645569,
           1.620253164556962,
           1.6708860759493671,
           1.7215189873417722,
           1.7721518987341771,
           1.8227848101265822,
           1.8734177215189873,
           1.9240506329113924,
           1.9746835443037973,
           2.0253164556962027,
           2.0759493670886076,
           2.1265822784810124,
           2.1772151898734178,
           2.2278481012658227,
           2.278481012658228,
           2.329113924050633,
           2.3797468354430378,
           2.430379746835443,
           2.481012658227848,
           2.5316455696202533,
           2.5822784810126582,
           2.632911392405063,
           2.6835443037974684,
           2.7341772151898733,
           2.7848101265822782,
           2.8354430379746836,
           2.8860759493670884,
           2.9367088607594938,
           2.9873417721518987,
           3.0379746835443036,
           3.088607594936709,
           3.1392405063291138,
           3.189873417721519,
           3.240506329113924,
           3.291139240506329,
           3.3417721518987342,
           3.392405063291139,
           3.4430379746835444,
           3.4936708860759493,
           3.5443037974683542,
           3.5949367088607596,
           3.6455696202531644,
           3.6962025316455698,
           3.7468354430379747,
           3.7974683544303796,
           3.848101265822785,
           3.8987341772151898,
           3.9493670886075947,
           4
          ],
          "colorbar": {
           "len": 0.5,
           "lenmode": "fraction",
           "title": {
            "text": "Time (s)"
           }
          },
          "colorscale": [
           [
            0,
            "#0d0887"
           ],
           [
            0.1111111111111111,
            "#46039f"
           ],
           [
            0.2222222222222222,
            "#7201a8"
           ],
           [
            0.3333333333333333,
            "#9c179e"
           ],
           [
            0.4444444444444444,
            "#bd3786"
           ],
           [
            0.5555555555555556,
            "#d8576b"
           ],
           [
            0.6666666666666666,
            "#ed7953"
           ],
           [
            0.7777777777777778,
            "#fb9f3a"
           ],
           [
            0.8888888888888888,
            "#fdca26"
           ],
           [
            1,
            "#f0f921"
           ]
          ],
          "opacity": 0.8,
          "size": 3
         },
         "mode": "markers",
         "name": "DDR",
         "showlegend": true,
         "type": "scatter3d",
         "x": [
          0.039269908169872414,
          0.0784187603185264,
          0.11720519075415113,
          0.15539006823531404,
          0.19273797029458348,
          0.22901863469632636,
          0.2640083790799608,
          0.2974914800360909,
          0.32926150311306124,
          0.3591225755539976,
          0.3868905939174874,
          0.41239435913651656,
          0.43547663201764725,
          0.4559951026729327,
          0.4738232679076992,
          0.48885121115480784,
          0.500986280146842,
          0.5101536581481458,
          0.5162968252248789,
          0.5193779067092026,
          0.5193779067092026,
          0.5162968252248789,
          0.5101536581481458,
          0.500986280146842,
          0.48885121115480784,
          0.4738232679076992,
          0.4559951026729327,
          0.43547663201764725,
          0.4123943591365165,
          0.3868905939174873,
          0.3591225755539975,
          0.3292615031130611,
          0.2974914800360907,
          0.2640083790799606,
          0.2290186346963262,
          0.1927379702945833,
          0.15539006823531387,
          0.11720519075415096,
          0.07841876031852624,
          0.03926990816987225,
          -1.6653345369377348e-16,
          -0.039148852148654156,
          -0.07793528258427888,
          -0.11612016006544179,
          -0.15346806212471123,
          -0.1897487265264541,
          -0.22473847091008853,
          -0.25822157186621864,
          -0.28999159494318905,
          -0.31985266738412543,
          -0.34762068574761523,
          -0.3731244509666444,
          -0.39620672384777517,
          -0.4167251945030606,
          -0.4345533597378271,
          -0.44958130298493576,
          -0.46171637197696996,
          -0.4708837499782738,
          -0.4770269170550068,
          -0.48010799853933056,
          -0.48010799853933056,
          -0.4770269170550069,
          -0.4708837499782739,
          -0.4617163719769701,
          -0.4495813029849359,
          -0.43455335973782727,
          -0.4167251945030608,
          -0.39620672384777533,
          -0.37312445096664465,
          -0.3476206857476155,
          -0.3198526673841257,
          -0.2899915949431893,
          -0.25822157186621897,
          -0.22473847091008886,
          -0.18974872652645447,
          -0.1534680621247116,
          -0.11612016006544215,
          -0.07793528258427926,
          -0.03914885214865454,
          -5.48172618408671e-16
         ],
         "y": [
          0,
          0.0030810814843237003,
          0.009224248561056683,
          0.01839162656236054,
          0.03052669555439471,
          0.04555463880150337,
          0.06338280403626986,
          0.08390127469155531,
          0.10698354757268602,
          0.13248731279171522,
          0.16025533115520502,
          0.1901164035961414,
          0.22188642667311176,
          0.25536952762924187,
          0.29035927201287626,
          0.32663993641461914,
          0.3639878384738886,
          0.4021727159550515,
          0.44095914639067624,
          0.4801079985393302,
          0.5193779067092026,
          0.5585267588578566,
          0.5973131892934813,
          0.6354980667746443,
          0.6728459688339137,
          0.7091266332356566,
          0.7441163776192911,
          0.7775994785754212,
          0.8093695016523916,
          0.839230574093328,
          0.8669985924568178,
          0.892502357675847,
          0.9155846305569777,
          0.9361031012122631,
          0.9539312664470296,
          0.9689592096941383,
          0.9810942786861725,
          0.9902616566874763,
          0.9964048237642094,
          0.9994859052485331,
          0.9994859052485331,
          1.0025669867328568,
          1.0087101538095897,
          1.0178775318108935,
          1.0300126008029276,
          1.045040544050036,
          1.0628687092848026,
          1.083387179940088,
          1.1064694528212187,
          1.1319732180402478,
          1.1597412364037376,
          1.1896023088446739,
          1.2213723319216443,
          1.2548554328777743,
          1.2898451772614088,
          1.3261258416631516,
          1.3634737437224211,
          1.401658621203584,
          1.4404450516392087,
          1.4795939037878627,
          1.5188638119577351,
          1.5580126641063892,
          1.5967990945420139,
          1.6349839720231767,
          1.6723318740824462,
          1.708612538484189,
          1.7436022828678235,
          1.7770853838239535,
          1.808855406900924,
          1.8387164793418602,
          1.86648449770535,
          1.8919882629243792,
          1.9150705358055098,
          1.9355890064607952,
          1.9534171716955617,
          1.9684451149426705,
          1.9805801839347046,
          1.9897475619360085,
          1.9958907290127414,
          1.998971810497065
         ],
         "z": [
          0.04,
          0.04,
          0.04,
          0.04,
          0.04,
          0.04,
          0.04,
          0.04,
          0.04,
          0.04,
          0.04,
          0.04,
          0.04,
          0.04,
          0.04,
          0.04,
          0.04,
          0.04,
          0.04,
          0.04,
          0.04,
          0.04,
          0.04,
          0.04,
          0.04,
          0.04,
          0.04,
          0.04,
          0.04,
          0.04,
          0.04,
          0.04,
          0.04,
          0.04,
          0.04,
          0.04,
          0.04,
          0.04,
          0.04,
          0.04,
          0.04,
          0.04,
          0.04,
          0.04,
          0.04,
          0.04,
          0.04,
          0.04,
          0.04,
          0.04,
          0.04,
          0.04,
          0.04,
          0.04,
          0.04,
          0.04,
          0.04,
          0.04,
          0.04,
          0.04,
          0.04,
          0.04,
          0.04,
          0.04,
          0.04,
          0.04,
          0.04,
          0.04,
          0.04,
          0.04,
          0.04,
          0.04,
          0.04,
          0.04,
          0.04,
          0.04,
          0.04,
          0.04,
          0.04,
          0.04
         ]
        },
        {
         "legendgroup": "Frames",
         "legendgrouptitle": {
          "text": "Frames"
         },
         "marker": {
          "color": "black",
          "opacity": 0.8,
          "size": 4
         },
         "mode": "markers",
         "name": "",
         "showlegend": false,
         "type": "scatter3d",
         "x": [
          0.039269908169872414
         ],
         "y": [
          0
         ],
         "z": [
          0.04
         ]
        },
        {
         "hoverinfo": "skip",
         "line": {
          "color": "red",
          "width": 2
         },
         "mode": "lines",
         "name": "x",
         "showlegend": false,
         "type": "scatter3d",
         "x": [
          0.039269908169872414,
          0.13896164154318522
         ],
         "y": [
          0,
          0.007845909572784497
         ],
         "z": [
          0.04,
          0.04
         ]
        },
        {
         "hoverinfo": "skip",
         "line": {
          "color": "green",
          "width": 2
         },
         "mode": "lines",
         "name": "y",
         "showlegend": false,
         "type": "scatter3d",
         "x": [
          0.039269908169872414,
          0.031423998597087915
         ],
         "y": [
          0,
          0.0996917333733128
         ],
         "z": [
          0.04,
          0.04
         ]
        },
        {
         "hoverinfo": "skip",
         "line": {
          "color": "blue",
          "width": 2
         },
         "mode": "lines",
         "name": "z",
         "showlegend": false,
         "type": "scatter3d",
         "x": [
          0.039269908169872414,
          0.039269908169872414
         ],
         "y": [
          0,
          0
         ],
         "z": [
          0.04,
          0.14
         ]
        },
        {
         "legendgroup": "Frames",
         "legendgrouptitle": {
          "text": "Frames"
         },
         "marker": {
          "color": "black",
          "opacity": 0.8,
          "size": 4
         },
         "mode": "markers",
         "name": "",
         "showlegend": false,
         "type": "scatter3d",
         "x": [
          0.500986280146842
         ],
         "y": [
          0.3639878384738886
         ],
         "z": [
          0.04
         ]
        },
        {
         "hoverinfo": "skip",
         "line": {
          "color": "red",
          "width": 2
         },
         "mode": "lines",
         "name": "x",
         "showlegend": false,
         "type": "scatter3d",
         "x": [
          0.500986280146842,
          0.5243308165324325
         ],
         "y": [
          0.3639878384738886,
          0.46122483051365626
         ],
         "z": [
          0.04,
          0.04
         ]
        },
        {
         "hoverinfo": "skip",
         "line": {
          "color": "green",
          "width": 2
         },
         "mode": "lines",
         "name": "y",
         "showlegend": false,
         "type": "scatter3d",
         "x": [
          0.500986280146842,
          0.40374928810707433
         ],
         "y": [
          0.3639878384738886,
          0.38733237485947913
         ],
         "z": [
          0.04,
          0.04
         ]
        },
        {
         "hoverinfo": "skip",
         "line": {
          "color": "blue",
          "width": 2
         },
         "mode": "lines",
         "name": "z",
         "showlegend": false,
         "type": "scatter3d",
         "x": [
          0.500986280146842,
          0.500986280146842
         ],
         "y": [
          0.3639878384738886,
          0.3639878384738886
         ],
         "z": [
          0.04,
          0.14
         ]
        },
        {
         "legendgroup": "Frames",
         "legendgrouptitle": {
          "text": "Frames"
         },
         "marker": {
          "color": "black",
          "opacity": 0.8,
          "size": 4
         },
         "mode": "markers",
         "name": "",
         "showlegend": false,
         "type": "scatter3d",
         "x": [
          0.2974914800360907
         ],
         "y": [
          0.9155846305569777
         ],
         "z": [
          0.04
         ]
        },
        {
         "hoverinfo": "skip",
         "line": {
          "color": "red",
          "width": 2
         },
         "mode": "lines",
         "name": "x",
         "showlegend": false,
         "type": "scatter3d",
         "x": [
          0.2974914800360907,
          0.21222746360068145
         ],
         "y": [
          0.9155846305569777,
          0.9678344870285726
         ],
         "z": [
          0.04,
          0.04
         ]
        },
        {
         "hoverinfo": "skip",
         "line": {
          "color": "green",
          "width": 2
         },
         "mode": "lines",
         "name": "y",
         "showlegend": false,
         "type": "scatter3d",
         "x": [
          0.2974914800360907,
          0.24524162356449586
         ],
         "y": [
          0.9155846305569777,
          0.8303206141215684
         ],
         "z": [
          0.04,
          0.04
         ]
        },
        {
         "hoverinfo": "skip",
         "line": {
          "color": "blue",
          "width": 2
         },
         "mode": "lines",
         "name": "z",
         "showlegend": false,
         "type": "scatter3d",
         "x": [
          0.2974914800360907,
          0.2974914800360907
         ],
         "y": [
          0.9155846305569777,
          0.9155846305569777
         ],
         "z": [
          0.04,
          0.14
         ]
        },
        {
         "legendgroup": "Frames",
         "legendgrouptitle": {
          "text": "Frames"
         },
         "marker": {
          "color": "black",
          "opacity": 0.8,
          "size": 4
         },
         "mode": "markers",
         "name": "",
         "showlegend": false,
         "type": "scatter3d",
         "x": [
          -0.28999159494318905
         ],
         "y": [
          1.1064694528212187
         ],
         "z": [
          0.04
         ]
        },
        {
         "hoverinfo": "skip",
         "line": {
          "color": "red",
          "width": 2
         },
         "mode": "lines",
         "name": "x",
         "showlegend": false,
         "type": "scatter3d",
         "x": [
          -0.28999159494318905,
          -0.36603219150319216
         ],
         "y": [
          1.1064694528212187,
          1.171414257654237
         ],
         "z": [
          0.04,
          0.04
         ]
        },
        {
         "hoverinfo": "skip",
         "line": {
          "color": "green",
          "width": 2
         },
         "mode": "lines",
         "name": "y",
         "showlegend": false,
         "type": "scatter3d",
         "x": [
          -0.28999159494318905,
          -0.3549363997762074
         ],
         "y": [
          1.1064694528212187,
          1.0304288562612156
         ],
         "z": [
          0.04,
          0.04
         ]
        },
        {
         "hoverinfo": "skip",
         "line": {
          "color": "blue",
          "width": 2
         },
         "mode": "lines",
         "name": "z",
         "showlegend": false,
         "type": "scatter3d",
         "x": [
          -0.28999159494318905,
          -0.28999159494318905
         ],
         "y": [
          1.1064694528212187,
          1.1064694528212187
         ],
         "z": [
          0.04,
          0.14
         ]
        },
        {
         "legendgroup": "Frames",
         "legendgrouptitle": {
          "text": "Frames"
         },
         "marker": {
          "color": "black",
          "opacity": 0.8,
          "size": 4
         },
         "mode": "markers",
         "name": "",
         "showlegend": false,
         "type": "scatter3d",
         "x": [
          -0.4495813029849359
         ],
         "y": [
          1.6723318740824462
         ],
         "z": [
          0.04
         ]
        },
        {
         "hoverinfo": "skip",
         "line": {
          "color": "red",
          "width": 2
         },
         "mode": "lines",
         "name": "x",
         "showlegend": false,
         "type": "scatter3d",
         "x": [
          -0.4495813029849359,
          -0.41131295974842697
         ],
         "y": [
          1.6723318740824462,
          1.764719827333575
         ],
         "z": [
          0.04,
          0.04
         ]
        },
        {
         "hoverinfo": "skip",
         "line": {
          "color": "green",
          "width": 2
         },
         "mode": "lines",
         "name": "y",
         "showlegend": false,
         "type": "scatter3d",
         "x": [
          -0.4495813029849359,
          -0.5419692562360646
         ],
         "y": [
          1.6723318740824462,
          1.7106002173189552
         ],
         "z": [
          0.04,
          0.04
         ]
        },
        {
         "hoverinfo": "skip",
         "line": {
          "color": "blue",
          "width": 2
         },
         "mode": "lines",
         "name": "z",
         "showlegend": false,
         "type": "scatter3d",
         "x": [
          -0.4495813029849359,
          -0.4495813029849359
         ],
         "y": [
          1.6723318740824462,
          1.6723318740824462
         ],
         "z": [
          0.04,
          0.14
         ]
        }
       ],
       "layout": {
        "font": {
         "color": "black",
         "family": "Arial",
         "size": 15
        },
        "height": 700,
        "scene": {
         "aspectmode": "cube",
         "camera": {
          "projection": {
           "type": "orthographic"
          }
         },
         "xaxis": {
          "range": [
           -4,
           4
          ],
          "showaxeslabels": false,
          "showbackground": false,
          "showgrid": false,
          "showspikes": false,
          "showticklabels": false,
          "title": {
           "text": ""
          }
         },
         "yaxis": {
          "range": [
           -4,
           4
          ],
          "showaxeslabels": false,
          "showbackground": false,
          "showgrid": false,
          "showspikes": false,
          "showticklabels": false,
          "title": {
           "text": ""
          }
         },
         "zaxis": {
          "range": [
           -4,
           4
          ],
          "showaxeslabels": false,
          "showbackground": false,
          "showgrid": false,
          "showspikes": false,
          "showticklabels": false,
          "title": {
           "text": ""
          }
         }
        },
        "template": {
         "data": {
          "bar": [
           {
            "error_x": {
             "color": "#2a3f5f"
            },
            "error_y": {
             "color": "#2a3f5f"
            },
            "marker": {
             "line": {
              "color": "#E5ECF6",
              "width": 0.5
             },
             "pattern": {
              "fillmode": "overlay",
              "size": 10,
              "solidity": 0.2
             }
            },
            "type": "bar"
           }
          ],
          "barpolar": [
           {
            "marker": {
             "line": {
              "color": "#E5ECF6",
              "width": 0.5
             },
             "pattern": {
              "fillmode": "overlay",
              "size": 10,
              "solidity": 0.2
             }
            },
            "type": "barpolar"
           }
          ],
          "carpet": [
           {
            "aaxis": {
             "endlinecolor": "#2a3f5f",
             "gridcolor": "white",
             "linecolor": "white",
             "minorgridcolor": "white",
             "startlinecolor": "#2a3f5f"
            },
            "baxis": {
             "endlinecolor": "#2a3f5f",
             "gridcolor": "white",
             "linecolor": "white",
             "minorgridcolor": "white",
             "startlinecolor": "#2a3f5f"
            },
            "type": "carpet"
           }
          ],
          "choropleth": [
           {
            "colorbar": {
             "outlinewidth": 0,
             "ticks": ""
            },
            "type": "choropleth"
           }
          ],
          "contour": [
           {
            "colorbar": {
             "outlinewidth": 0,
             "ticks": ""
            },
            "colorscale": [
             [
              0,
              "#0d0887"
             ],
             [
              0.1111111111111111,
              "#46039f"
             ],
             [
              0.2222222222222222,
              "#7201a8"
             ],
             [
              0.3333333333333333,
              "#9c179e"
             ],
             [
              0.4444444444444444,
              "#bd3786"
             ],
             [
              0.5555555555555556,
              "#d8576b"
             ],
             [
              0.6666666666666666,
              "#ed7953"
             ],
             [
              0.7777777777777778,
              "#fb9f3a"
             ],
             [
              0.8888888888888888,
              "#fdca26"
             ],
             [
              1,
              "#f0f921"
             ]
            ],
            "type": "contour"
           }
          ],
          "contourcarpet": [
           {
            "colorbar": {
             "outlinewidth": 0,
             "ticks": ""
            },
            "type": "contourcarpet"
           }
          ],
          "heatmap": [
           {
            "colorbar": {
             "outlinewidth": 0,
             "ticks": ""
            },
            "colorscale": [
             [
              0,
              "#0d0887"
             ],
             [
              0.1111111111111111,
              "#46039f"
             ],
             [
              0.2222222222222222,
              "#7201a8"
             ],
             [
              0.3333333333333333,
              "#9c179e"
             ],
             [
              0.4444444444444444,
              "#bd3786"
             ],
             [
              0.5555555555555556,
              "#d8576b"
             ],
             [
              0.6666666666666666,
              "#ed7953"
             ],
             [
              0.7777777777777778,
              "#fb9f3a"
             ],
             [
              0.8888888888888888,
              "#fdca26"
             ],
             [
              1,
              "#f0f921"
             ]
            ],
            "type": "heatmap"
           }
          ],
          "heatmapgl": [
           {
            "colorbar": {
             "outlinewidth": 0,
             "ticks": ""
            },
            "colorscale": [
             [
              0,
              "#0d0887"
             ],
             [
              0.1111111111111111,
              "#46039f"
             ],
             [
              0.2222222222222222,
              "#7201a8"
             ],
             [
              0.3333333333333333,
              "#9c179e"
             ],
             [
              0.4444444444444444,
              "#bd3786"
             ],
             [
              0.5555555555555556,
              "#d8576b"
             ],
             [
              0.6666666666666666,
              "#ed7953"
             ],
             [
              0.7777777777777778,
              "#fb9f3a"
             ],
             [
              0.8888888888888888,
              "#fdca26"
             ],
             [
              1,
              "#f0f921"
             ]
            ],
            "type": "heatmapgl"
           }
          ],
          "histogram": [
           {
            "marker": {
             "pattern": {
              "fillmode": "overlay",
              "size": 10,
              "solidity": 0.2
             }
            },
            "type": "histogram"
           }
          ],
          "histogram2d": [
           {
            "colorbar": {
             "outlinewidth": 0,
             "ticks": ""
            },
            "colorscale": [
             [
              0,
              "#0d0887"
             ],
             [
              0.1111111111111111,
              "#46039f"
             ],
             [
              0.2222222222222222,
              "#7201a8"
             ],
             [
              0.3333333333333333,
              "#9c179e"
             ],
             [
              0.4444444444444444,
              "#bd3786"
             ],
             [
              0.5555555555555556,
              "#d8576b"
             ],
             [
              0.6666666666666666,
              "#ed7953"
             ],
             [
              0.7777777777777778,
              "#fb9f3a"
             ],
             [
              0.8888888888888888,
              "#fdca26"
             ],
             [
              1,
              "#f0f921"
             ]
            ],
            "type": "histogram2d"
           }
          ],
          "histogram2dcontour": [
           {
            "colorbar": {
             "outlinewidth": 0,
             "ticks": ""
            },
            "colorscale": [
             [
              0,
              "#0d0887"
             ],
             [
              0.1111111111111111,
              "#46039f"
             ],
             [
              0.2222222222222222,
              "#7201a8"
             ],
             [
              0.3333333333333333,
              "#9c179e"
             ],
             [
              0.4444444444444444,
              "#bd3786"
             ],
             [
              0.5555555555555556,
              "#d8576b"
             ],
             [
              0.6666666666666666,
              "#ed7953"
             ],
             [
              0.7777777777777778,
              "#fb9f3a"
             ],
             [
              0.8888888888888888,
              "#fdca26"
             ],
             [
              1,
              "#f0f921"
             ]
            ],
            "type": "histogram2dcontour"
           }
          ],
          "mesh3d": [
           {
            "colorbar": {
             "outlinewidth": 0,
             "ticks": ""
            },
            "type": "mesh3d"
           }
          ],
          "parcoords": [
           {
            "line": {
             "colorbar": {
              "outlinewidth": 0,
              "ticks": ""
             }
            },
            "type": "parcoords"
           }
          ],
          "pie": [
           {
            "automargin": true,
            "type": "pie"
           }
          ],
          "scatter": [
           {
            "fillpattern": {
             "fillmode": "overlay",
             "size": 10,
             "solidity": 0.2
            },
            "type": "scatter"
           }
          ],
          "scatter3d": [
           {
            "line": {
             "colorbar": {
              "outlinewidth": 0,
              "ticks": ""
             }
            },
            "marker": {
             "colorbar": {
              "outlinewidth": 0,
              "ticks": ""
             }
            },
            "type": "scatter3d"
           }
          ],
          "scattercarpet": [
           {
            "marker": {
             "colorbar": {
              "outlinewidth": 0,
              "ticks": ""
             }
            },
            "type": "scattercarpet"
           }
          ],
          "scattergeo": [
           {
            "marker": {
             "colorbar": {
              "outlinewidth": 0,
              "ticks": ""
             }
            },
            "type": "scattergeo"
           }
          ],
          "scattergl": [
           {
            "marker": {
             "colorbar": {
              "outlinewidth": 0,
              "ticks": ""
             }
            },
            "type": "scattergl"
           }
          ],
          "scattermapbox": [
           {
            "marker": {
             "colorbar": {
              "outlinewidth": 0,
              "ticks": ""
             }
            },
            "type": "scattermapbox"
           }
          ],
          "scatterpolar": [
           {
            "marker": {
             "colorbar": {
              "outlinewidth": 0,
              "ticks": ""
             }
            },
            "type": "scatterpolar"
           }
          ],
          "scatterpolargl": [
           {
            "marker": {
             "colorbar": {
              "outlinewidth": 0,
              "ticks": ""
             }
            },
            "type": "scatterpolargl"
           }
          ],
          "scatterternary": [
           {
            "marker": {
             "colorbar": {
              "outlinewidth": 0,
              "ticks": ""
             }
            },
            "type": "scatterternary"
           }
          ],
          "surface": [
           {
            "colorbar": {
             "outlinewidth": 0,
             "ticks": ""
            },
            "colorscale": [
             [
              0,
              "#0d0887"
             ],
             [
              0.1111111111111111,
              "#46039f"
             ],
             [
              0.2222222222222222,
              "#7201a8"
             ],
             [
              0.3333333333333333,
              "#9c179e"
             ],
             [
              0.4444444444444444,
              "#bd3786"
             ],
             [
              0.5555555555555556,
              "#d8576b"
             ],
             [
              0.6666666666666666,
              "#ed7953"
             ],
             [
              0.7777777777777778,
              "#fb9f3a"
             ],
             [
              0.8888888888888888,
              "#fdca26"
             ],
             [
              1,
              "#f0f921"
             ]
            ],
            "type": "surface"
           }
          ],
          "table": [
           {
            "cells": {
             "fill": {
              "color": "#EBF0F8"
             },
             "line": {
              "color": "white"
             }
            },
            "header": {
             "fill": {
              "color": "#C8D4E3"
             },
             "line": {
              "color": "white"
             }
            },
            "type": "table"
           }
          ]
         },
         "layout": {
          "annotationdefaults": {
           "arrowcolor": "#2a3f5f",
           "arrowhead": 0,
           "arrowwidth": 1
          },
          "autotypenumbers": "strict",
          "coloraxis": {
           "colorbar": {
            "outlinewidth": 0,
            "ticks": ""
           }
          },
          "colorscale": {
           "diverging": [
            [
             0,
             "#8e0152"
            ],
            [
             0.1,
             "#c51b7d"
            ],
            [
             0.2,
             "#de77ae"
            ],
            [
             0.3,
             "#f1b6da"
            ],
            [
             0.4,
             "#fde0ef"
            ],
            [
             0.5,
             "#f7f7f7"
            ],
            [
             0.6,
             "#e6f5d0"
            ],
            [
             0.7,
             "#b8e186"
            ],
            [
             0.8,
             "#7fbc41"
            ],
            [
             0.9,
             "#4d9221"
            ],
            [
             1,
             "#276419"
            ]
           ],
           "sequential": [
            [
             0,
             "#0d0887"
            ],
            [
             0.1111111111111111,
             "#46039f"
            ],
            [
             0.2222222222222222,
             "#7201a8"
            ],
            [
             0.3333333333333333,
             "#9c179e"
            ],
            [
             0.4444444444444444,
             "#bd3786"
            ],
            [
             0.5555555555555556,
             "#d8576b"
            ],
            [
             0.6666666666666666,
             "#ed7953"
            ],
            [
             0.7777777777777778,
             "#fb9f3a"
            ],
            [
             0.8888888888888888,
             "#fdca26"
            ],
            [
             1,
             "#f0f921"
            ]
           ],
           "sequentialminus": [
            [
             0,
             "#0d0887"
            ],
            [
             0.1111111111111111,
             "#46039f"
            ],
            [
             0.2222222222222222,
             "#7201a8"
            ],
            [
             0.3333333333333333,
             "#9c179e"
            ],
            [
             0.4444444444444444,
             "#bd3786"
            ],
            [
             0.5555555555555556,
             "#d8576b"
            ],
            [
             0.6666666666666666,
             "#ed7953"
            ],
            [
             0.7777777777777778,
             "#fb9f3a"
            ],
            [
             0.8888888888888888,
             "#fdca26"
            ],
            [
             1,
             "#f0f921"
            ]
           ]
          },
          "colorway": [
           "#636efa",
           "#EF553B",
           "#00cc96",
           "#ab63fa",
           "#FFA15A",
           "#19d3f3",
           "#FF6692",
           "#B6E880",
           "#FF97FF",
           "#FECB52"
          ],
          "font": {
           "color": "#2a3f5f"
          },
          "geo": {
           "bgcolor": "white",
           "lakecolor": "white",
           "landcolor": "#E5ECF6",
           "showlakes": true,
           "showland": true,
           "subunitcolor": "white"
          },
          "hoverlabel": {
           "align": "left"
          },
          "hovermode": "closest",
          "mapbox": {
           "style": "light"
          },
          "paper_bgcolor": "white",
          "plot_bgcolor": "#E5ECF6",
          "polar": {
           "angularaxis": {
            "gridcolor": "white",
            "linecolor": "white",
            "ticks": ""
           },
           "bgcolor": "#E5ECF6",
           "radialaxis": {
            "gridcolor": "white",
            "linecolor": "white",
            "ticks": ""
           }
          },
          "scene": {
           "xaxis": {
            "backgroundcolor": "#E5ECF6",
            "gridcolor": "white",
            "gridwidth": 2,
            "linecolor": "white",
            "showbackground": true,
            "ticks": "",
            "zerolinecolor": "white"
           },
           "yaxis": {
            "backgroundcolor": "#E5ECF6",
            "gridcolor": "white",
            "gridwidth": 2,
            "linecolor": "white",
            "showbackground": true,
            "ticks": "",
            "zerolinecolor": "white"
           },
           "zaxis": {
            "backgroundcolor": "#E5ECF6",
            "gridcolor": "white",
            "gridwidth": 2,
            "linecolor": "white",
            "showbackground": true,
            "ticks": "",
            "zerolinecolor": "white"
           }
          },
          "shapedefaults": {
           "line": {
            "color": "#2a3f5f"
           }
          },
          "ternary": {
           "aaxis": {
            "gridcolor": "white",
            "linecolor": "white",
            "ticks": ""
           },
           "baxis": {
            "gridcolor": "white",
            "linecolor": "white",
            "ticks": ""
           },
           "bgcolor": "#E5ECF6",
           "caxis": {
            "gridcolor": "white",
            "linecolor": "white",
            "ticks": ""
           }
          },
          "title": {
           "x": 0.05
          },
          "xaxis": {
           "automargin": true,
           "gridcolor": "white",
           "linecolor": "white",
           "ticks": "",
           "title": {
            "standoff": 15
           },
           "zerolinecolor": "white",
           "zerolinewidth": 2
          },
          "yaxis": {
           "automargin": true,
           "gridcolor": "white",
           "linecolor": "white",
           "ticks": "",
           "title": {
            "standoff": 15
           },
           "zerolinecolor": "white",
           "zerolinewidth": 2
          }
         }
        },
        "title": {
         "text": "Requested:\n'uma trajetória em formato de S'"
        },
        "width": 700
       }
      }
     },
     "metadata": {},
     "output_type": "display_data"
    }
   ],
   "source": [
    "# Create the Scene Viewer\n",
    "scene = Viewer3D(title=f\"Requested:\\n'{recognized_speech}'\", \n",
    "                 size=4) # In m\n",
    "\n",
    "# Add inertial reference\n",
    "scene.add_frame(\n",
    "    transformation=np.eye(4), \n",
    "    name=\"Inertial Reference\", \n",
    "    axis_size=5\n",
    ")\n",
    "\n",
    "# Add robot trajectory \n",
    "scene.add_points(points=trajectory, \n",
    "                 name='DDR',\n",
    "                 color=time_vector,\n",
    "                 colorscale='plasma',\n",
    "                 range=[time_vector[0], time_vector[-1] + 0.5],\n",
    "                 colorbar=\"Time (s)\")\n",
    "\n",
    "# Display poses\n",
    "n_poses = 5\n",
    "for pose in poses[::len(poses) // n_poses]:\n",
    "    # Add poses\n",
    "    scene.add_frame(\n",
    "        transformation=pose, \n",
    "        axis_size=0.1,\n",
    "        color='black'\n",
    "    )\n",
    "\n",
    "scene.figure.show()"
   ]
  }
 ],
 "metadata": {
  "kernelspec": {
   "display_name": "Python 3",
   "language": "python",
   "name": "python3"
  },
  "language_info": {
   "codemirror_mode": {
    "name": "ipython",
    "version": 3
   },
   "file_extension": ".py",
   "mimetype": "text/x-python",
   "name": "python",
   "nbconvert_exporter": "python",
   "pygments_lexer": "ipython3",
   "version": "3.12.0"
  }
 },
 "nbformat": 4,
 "nbformat_minor": 2
}
